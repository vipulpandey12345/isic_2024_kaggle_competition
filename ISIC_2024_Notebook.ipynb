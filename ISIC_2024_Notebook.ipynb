{
  "metadata": {
    "kernelspec": {
      "language": "python",
      "display_name": "Python 3",
      "name": "python3"
    },
    "language_info": {
      "name": "python",
      "version": "3.10.13",
      "mimetype": "text/x-python",
      "codemirror_mode": {
        "name": "ipython",
        "version": 3
      },
      "pygments_lexer": "ipython3",
      "nbconvert_exporter": "python",
      "file_extension": ".py"
    },
    "kaggle": {
      "accelerator": "none",
      "dataSources": [
        {
          "sourceId": 63056,
          "databundleVersionId": 9094797,
          "sourceType": "competition"
        },
        {
          "sourceId": 9262454,
          "sourceType": "datasetVersion",
          "datasetId": 5604598
        },
        {
          "sourceId": 102080,
          "sourceType": "modelInstanceVersion",
          "isSourceIdPinned": true,
          "modelInstanceId": 85573,
          "modelId": 109806
        }
      ],
      "dockerImageVersionId": 30746,
      "isInternetEnabled": true,
      "language": "python",
      "sourceType": "notebook",
      "isGpuEnabled": false
    },
    "colab": {
      "name": "ISIC 2024 Notebook",
      "provenance": []
    }
  },
  "nbformat_minor": 0,
  "nbformat": 4,
  "cells": [
    {
      "source": [
        "# IMPORTANT: SOME KAGGLE DATA SOURCES ARE PRIVATE\n",
        "# RUN THIS CELL IN ORDER TO IMPORT YOUR KAGGLE DATA SOURCES.\n",
        "import kagglehub\n",
        "kagglehub.login()\n"
      ],
      "metadata": {
        "id": "uyfRnOOlV_kf"
      },
      "cell_type": "code",
      "outputs": [],
      "execution_count": null
    },
    {
      "source": [
        "# IMPORTANT: RUN THIS CELL IN ORDER TO IMPORT YOUR KAGGLE DATA SOURCES,\n",
        "# THEN FEEL FREE TO DELETE THIS CELL.\n",
        "# NOTE: THIS NOTEBOOK ENVIRONMENT DIFFERS FROM KAGGLE'S PYTHON\n",
        "# ENVIRONMENT SO THERE MAY BE MISSING LIBRARIES USED BY YOUR\n",
        "# NOTEBOOK.\n",
        "\n",
        "isic_2024_challenge_path = kagglehub.competition_download('isic-2024-challenge')\n",
        "vipulpandey_isic_training_model_path = kagglehub.dataset_download('vipulpandey/isic-training-model')\n",
        "vipulpandey_isic_model_pytorch_default_1_path = kagglehub.model_download('vipulpandey/isic_model/PyTorch/default/1')\n",
        "\n",
        "print('Data source import complete.')\n"
      ],
      "metadata": {
        "id": "Z2s1WE8-V_kh"
      },
      "cell_type": "code",
      "outputs": [],
      "execution_count": null
    },
    {
      "cell_type": "code",
      "source": [],
      "metadata": {
        "_uuid": "8f2839f25d086af736a60e9eeb907d3b93b6e0e5",
        "_cell_guid": "b1076dfc-b9ad-4769-8c92-a6c4dae69d19",
        "trusted": true,
        "id": "hUX8Sn9DV_kh"
      },
      "execution_count": null,
      "outputs": []
    },
    {
      "cell_type": "code",
      "source": [],
      "metadata": {
        "trusted": true,
        "id": "5pAwVRfwV_ki"
      },
      "execution_count": null,
      "outputs": []
    },
    {
      "cell_type": "code",
      "source": [
        "pip install git+https://github.com/KindXiaoming/pykan.git"
      ],
      "metadata": {
        "execution": {
          "iopub.status.busy": "2024-08-29T01:34:45.131028Z",
          "iopub.execute_input": "2024-08-29T01:34:45.131419Z",
          "iopub.status.idle": "2024-08-29T01:35:04.060752Z",
          "shell.execute_reply.started": "2024-08-29T01:34:45.131386Z",
          "shell.execute_reply": "2024-08-29T01:35:04.059491Z"
        },
        "trusted": true,
        "id": "agQJTjcrV_ki",
        "outputId": "6e6f4691-08a7-4781-a619-8d564e82c327"
      },
      "execution_count": null,
      "outputs": [
        {
          "name": "stdout",
          "text": "Collecting git+https://github.com/KindXiaoming/pykan.git\n  Cloning https://github.com/KindXiaoming/pykan.git to /tmp/pip-req-build-vgylir7z\n  Running command git clone --filter=blob:none --quiet https://github.com/KindXiaoming/pykan.git /tmp/pip-req-build-vgylir7z\n  Resolved https://github.com/KindXiaoming/pykan.git to commit 173dadda8274897d97a7a63518c64caccda65576\n  Preparing metadata (setup.py) ... \u001b[?25ldone\n\u001b[?25hBuilding wheels for collected packages: pykan\n  Building wheel for pykan (setup.py) ... \u001b[?25ldone\n\u001b[?25h  Created wheel for pykan: filename=pykan-0.2.6-py3-none-any.whl size=311349 sha256=dcb1865bfc8793e18434b03b25a250d1c28539adde83a92a2a349d39a1fecb78\n  Stored in directory: /tmp/pip-ephem-wheel-cache-30fasfwb/wheels/47/ca/5a/98124e020f3119f51c17f78738c621c140b7aa803b0feda76e\nSuccessfully built pykan\nInstalling collected packages: pykan\nSuccessfully installed pykan-0.2.6\nNote: you may need to restart the kernel to use updated packages.\n",
          "output_type": "stream"
        }
      ]
    },
    {
      "cell_type": "code",
      "source": [
        "pip install -U libauc"
      ],
      "metadata": {
        "execution": {
          "iopub.status.busy": "2024-08-29T01:35:04.06315Z",
          "iopub.execute_input": "2024-08-29T01:35:04.063529Z",
          "iopub.status.idle": "2024-08-29T01:35:19.350913Z",
          "shell.execute_reply.started": "2024-08-29T01:35:04.063495Z",
          "shell.execute_reply": "2024-08-29T01:35:19.34946Z"
        },
        "trusted": true,
        "id": "vGw7pH5rV_ki",
        "outputId": "29b0299b-e1d9-4d56-c567-03bbf96bfd28"
      },
      "execution_count": null,
      "outputs": [
        {
          "name": "stdout",
          "text": "Collecting libauc\n  Downloading libauc-1.4.0-py3-none-any.whl.metadata (8.1 kB)\nRequirement already satisfied: torch in /opt/conda/lib/python3.10/site-packages (from libauc) (2.1.2+cpu)\nRequirement already satisfied: torchvision in /opt/conda/lib/python3.10/site-packages (from libauc) (0.16.2+cpu)\nRequirement already satisfied: numpy in /opt/conda/lib/python3.10/site-packages (from libauc) (1.26.4)\nRequirement already satisfied: tqdm in /opt/conda/lib/python3.10/site-packages (from libauc) (4.66.4)\nRequirement already satisfied: scipy in /opt/conda/lib/python3.10/site-packages (from libauc) (1.11.4)\nRequirement already satisfied: pandas in /opt/conda/lib/python3.10/site-packages (from libauc) (2.2.2)\nRequirement already satisfied: Pillow in /opt/conda/lib/python3.10/site-packages (from libauc) (9.5.0)\nRequirement already satisfied: scikit-learn in /opt/conda/lib/python3.10/site-packages (from libauc) (1.2.2)\nRequirement already satisfied: opencv-python in /opt/conda/lib/python3.10/site-packages (from libauc) (4.10.0.84)\nCollecting torch-geometric (from libauc)\n  Downloading torch_geometric-2.5.3-py3-none-any.whl.metadata (64 kB)\n\u001b[2K     \u001b[90m━━━━━━━━━━━━━━━━━━━━━━━━━━━━━━━━━━━━━━━━\u001b[0m \u001b[32m64.2/64.2 kB\u001b[0m \u001b[31m2.3 MB/s\u001b[0m eta \u001b[36m0:00:00\u001b[0m\n\u001b[?25hCollecting ogb (from libauc)\n  Downloading ogb-1.3.6-py3-none-any.whl.metadata (6.2 kB)\nCollecting webdataset (from libauc)\n  Downloading webdataset-0.2.96-py3-none-any.whl.metadata (12 kB)\nRequirement already satisfied: six>=1.12.0 in /opt/conda/lib/python3.10/site-packages (from ogb->libauc) (1.16.0)\nRequirement already satisfied: urllib3>=1.24.0 in /opt/conda/lib/python3.10/site-packages (from ogb->libauc) (1.26.18)\nCollecting outdated>=0.2.0 (from ogb->libauc)\n  Downloading outdated-0.2.2-py2.py3-none-any.whl.metadata (4.7 kB)\nRequirement already satisfied: python-dateutil>=2.8.2 in /opt/conda/lib/python3.10/site-packages (from pandas->libauc) (2.9.0.post0)\nRequirement already satisfied: pytz>=2020.1 in /opt/conda/lib/python3.10/site-packages (from pandas->libauc) (2023.3.post1)\nRequirement already satisfied: tzdata>=2022.7 in /opt/conda/lib/python3.10/site-packages (from pandas->libauc) (2023.4)\nRequirement already satisfied: joblib>=1.1.1 in /opt/conda/lib/python3.10/site-packages (from scikit-learn->libauc) (1.4.2)\nRequirement already satisfied: threadpoolctl>=2.0.0 in /opt/conda/lib/python3.10/site-packages (from scikit-learn->libauc) (3.2.0)\nRequirement already satisfied: filelock in /opt/conda/lib/python3.10/site-packages (from torch->libauc) (3.13.1)\nRequirement already satisfied: typing-extensions in /opt/conda/lib/python3.10/site-packages (from torch->libauc) (4.9.0)\nRequirement already satisfied: sympy in /opt/conda/lib/python3.10/site-packages (from torch->libauc) (1.13.0)\nRequirement already satisfied: networkx in /opt/conda/lib/python3.10/site-packages (from torch->libauc) (3.2.1)\nRequirement already satisfied: jinja2 in /opt/conda/lib/python3.10/site-packages (from torch->libauc) (3.1.2)\nRequirement already satisfied: fsspec in /opt/conda/lib/python3.10/site-packages (from torch->libauc) (2024.5.0)\nRequirement already satisfied: aiohttp in /opt/conda/lib/python3.10/site-packages (from torch-geometric->libauc) (3.9.1)\nRequirement already satisfied: requests in /opt/conda/lib/python3.10/site-packages (from torch-geometric->libauc) (2.32.3)\nRequirement already satisfied: pyparsing in /opt/conda/lib/python3.10/site-packages (from torch-geometric->libauc) (3.1.1)\nRequirement already satisfied: psutil>=5.8.0 in /opt/conda/lib/python3.10/site-packages (from torch-geometric->libauc) (5.9.3)\nCollecting braceexpand (from webdataset->libauc)\n  Downloading braceexpand-0.1.7-py2.py3-none-any.whl.metadata (3.0 kB)\nRequirement already satisfied: pyyaml in /opt/conda/lib/python3.10/site-packages (from webdataset->libauc) (6.0.1)\nRequirement already satisfied: setuptools>=44 in /opt/conda/lib/python3.10/site-packages (from outdated>=0.2.0->ogb->libauc) (69.0.3)\nCollecting littleutils (from outdated>=0.2.0->ogb->libauc)\n  Downloading littleutils-0.2.4-py3-none-any.whl.metadata (679 bytes)\nRequirement already satisfied: attrs>=17.3.0 in /opt/conda/lib/python3.10/site-packages (from aiohttp->torch-geometric->libauc) (23.2.0)\nRequirement already satisfied: multidict<7.0,>=4.5 in /opt/conda/lib/python3.10/site-packages (from aiohttp->torch-geometric->libauc) (6.0.4)\nRequirement already satisfied: yarl<2.0,>=1.0 in /opt/conda/lib/python3.10/site-packages (from aiohttp->torch-geometric->libauc) (1.9.3)\nRequirement already satisfied: frozenlist>=1.1.1 in /opt/conda/lib/python3.10/site-packages (from aiohttp->torch-geometric->libauc) (1.4.1)\nRequirement already satisfied: aiosignal>=1.1.2 in /opt/conda/lib/python3.10/site-packages (from aiohttp->torch-geometric->libauc) (1.3.1)\nRequirement already satisfied: async-timeout<5.0,>=4.0 in /opt/conda/lib/python3.10/site-packages (from aiohttp->torch-geometric->libauc) (4.0.3)\nRequirement already satisfied: MarkupSafe>=2.0 in /opt/conda/lib/python3.10/site-packages (from jinja2->torch->libauc) (2.1.3)\nRequirement already satisfied: charset-normalizer<4,>=2 in /opt/conda/lib/python3.10/site-packages (from requests->torch-geometric->libauc) (3.3.2)\nRequirement already satisfied: idna<4,>=2.5 in /opt/conda/lib/python3.10/site-packages (from requests->torch-geometric->libauc) (3.6)\nRequirement already satisfied: certifi>=2017.4.17 in /opt/conda/lib/python3.10/site-packages (from requests->torch-geometric->libauc) (2024.7.4)\nRequirement already satisfied: mpmath<1.4,>=1.1.0 in /opt/conda/lib/python3.10/site-packages (from sympy->torch->libauc) (1.3.0)\nDownloading libauc-1.4.0-py3-none-any.whl (130 kB)\n\u001b[2K   \u001b[90m━━━━━━━━━━━━━━━━━━━━━━━━━━━━━━━━━━━━━━━━\u001b[0m \u001b[32m130.8/130.8 kB\u001b[0m \u001b[31m6.7 MB/s\u001b[0m eta \u001b[36m0:00:00\u001b[0m\n\u001b[?25hDownloading ogb-1.3.6-py3-none-any.whl (78 kB)\n\u001b[2K   \u001b[90m━━━━━━━━━━━━━━━━━━━━━━━━━━━━━━━━━━━━━━━━\u001b[0m \u001b[32m78.8/78.8 kB\u001b[0m \u001b[31m4.6 MB/s\u001b[0m eta \u001b[36m0:00:00\u001b[0m\n\u001b[?25hDownloading torch_geometric-2.5.3-py3-none-any.whl (1.1 MB)\n\u001b[2K   \u001b[90m━━━━━━━━━━━━━━━━━━━━━━━━━━━━━━━━━━━━━━━━\u001b[0m \u001b[32m1.1/1.1 MB\u001b[0m \u001b[31m40.2 MB/s\u001b[0m eta \u001b[36m0:00:00\u001b[0m\n\u001b[?25hDownloading webdataset-0.2.96-py3-none-any.whl (74 kB)\n\u001b[2K   \u001b[90m━━━━━━━━━━━━━━━━━━━━━━━━━━━━━━━━━━━━━━━━\u001b[0m \u001b[32m74.8/74.8 kB\u001b[0m \u001b[31m4.0 MB/s\u001b[0m eta \u001b[36m0:00:00\u001b[0m\n\u001b[?25hDownloading outdated-0.2.2-py2.py3-none-any.whl (7.5 kB)\nDownloading braceexpand-0.1.7-py2.py3-none-any.whl (5.9 kB)\nDownloading littleutils-0.2.4-py3-none-any.whl (8.1 kB)\nInstalling collected packages: braceexpand, webdataset, littleutils, outdated, torch-geometric, ogb, libauc\nSuccessfully installed braceexpand-0.1.7 libauc-1.4.0 littleutils-0.2.4 ogb-1.3.6 outdated-0.2.2 torch-geometric-2.5.3 webdataset-0.2.96\nNote: you may need to restart the kernel to use updated packages.\n",
          "output_type": "stream"
        }
      ]
    },
    {
      "cell_type": "code",
      "source": [
        "# Import libraries\n",
        "import glob\n",
        "import numpy as np\n",
        "\n",
        "# LibAUC\n",
        "from libauc.losses import AUCMLoss\n",
        "from libauc.optimizers import PESG\n",
        "\n",
        "# KAN model\n",
        "import torch\n",
        "import torch.nn as nn\n",
        "import torch.optim as optim\n",
        "from torch.utils.data import DataLoader, Dataset\n",
        "from tqdm import tqdm\n",
        "\n",
        "# Loading the competition data\n",
        "import pandas as pd # for reading from the CSV file\n",
        "from sklearn.model_selection import train_test_split\n",
        "from PIL import Image\n",
        "from sklearn.model_selection import StratifiedKFold\n",
        "\n",
        "# Visualizing the competition data\n",
        "import matplotlib.pyplot as plt\n",
        "import seaborn as sns\n",
        "\n",
        "# Misc\n",
        "import torch.nn.functional as F\n",
        "from collections import defaultdict\n",
        "from sklearn.preprocessing import StandardScaler\n",
        "\n",
        "\n",
        "# Define Constants\n",
        "ROOT_DIR = \"/kaggle/input/isic-2024-challenge\"\n",
        "TRAIN_DIR = f'{ROOT_DIR}/train-image/image'\n",
        "\n",
        "\n",
        "\n",
        "import os\n",
        "print(os.listdir(ROOT_DIR))\n",
        "\n"
      ],
      "metadata": {
        "execution": {
          "iopub.status.busy": "2024-08-29T01:35:19.352402Z",
          "iopub.execute_input": "2024-08-29T01:35:19.352736Z",
          "iopub.status.idle": "2024-08-29T01:35:23.776219Z",
          "shell.execute_reply.started": "2024-08-29T01:35:19.352705Z",
          "shell.execute_reply": "2024-08-29T01:35:23.775074Z"
        },
        "trusted": true,
        "id": "SRtDKxmnV_ki",
        "outputId": "ef4a77df-e423-4035-df84-1bb06db9377e"
      },
      "execution_count": null,
      "outputs": [
        {
          "name": "stdout",
          "text": "['sample_submission.csv', 'train-metadata.csv', 'test-metadata.csv', 'test-image.hdf5', 'train-image', 'train-image.hdf5']\n",
          "output_type": "stream"
        }
      ]
    },
    {
      "cell_type": "code",
      "source": [],
      "metadata": {
        "id": "I7nJQ93OV_kj"
      },
      "execution_count": null,
      "outputs": []
    },
    {
      "cell_type": "code",
      "source": [
        "!pip install torcheval\n",
        "!pip install timm\n",
        "!pip install colorama"
      ],
      "metadata": {
        "execution": {
          "iopub.status.busy": "2024-08-29T01:35:23.777651Z",
          "iopub.execute_input": "2024-08-29T01:35:23.778181Z",
          "iopub.status.idle": "2024-08-29T01:36:00.684195Z",
          "shell.execute_reply.started": "2024-08-29T01:35:23.778151Z",
          "shell.execute_reply": "2024-08-29T01:36:00.682676Z"
        },
        "trusted": true,
        "id": "fmfTw1GoV_kj",
        "outputId": "0e3ca1c0-7995-4c23-eb5c-45443d8860bd"
      },
      "execution_count": null,
      "outputs": [
        {
          "name": "stdout",
          "text": "Collecting torcheval\n  Downloading torcheval-0.0.7-py3-none-any.whl.metadata (8.6 kB)\nRequirement already satisfied: typing-extensions in /opt/conda/lib/python3.10/site-packages (from torcheval) (4.9.0)\nDownloading torcheval-0.0.7-py3-none-any.whl (179 kB)\n\u001b[2K   \u001b[90m━━━━━━━━━━━━━━━━━━━━━━━━━━━━━━━━━━━━━━━━\u001b[0m \u001b[32m179.2/179.2 kB\u001b[0m \u001b[31m5.8 MB/s\u001b[0m eta \u001b[36m0:00:00\u001b[0m\n\u001b[?25hInstalling collected packages: torcheval\nSuccessfully installed torcheval-0.0.7\nRequirement already satisfied: timm in /opt/conda/lib/python3.10/site-packages (1.0.7)\nRequirement already satisfied: torch in /opt/conda/lib/python3.10/site-packages (from timm) (2.1.2+cpu)\nRequirement already satisfied: torchvision in /opt/conda/lib/python3.10/site-packages (from timm) (0.16.2+cpu)\nRequirement already satisfied: pyyaml in /opt/conda/lib/python3.10/site-packages (from timm) (6.0.1)\nRequirement already satisfied: huggingface_hub in /opt/conda/lib/python3.10/site-packages (from timm) (0.23.4)\nRequirement already satisfied: safetensors in /opt/conda/lib/python3.10/site-packages (from timm) (0.4.3)\nRequirement already satisfied: filelock in /opt/conda/lib/python3.10/site-packages (from huggingface_hub->timm) (3.13.1)\nRequirement already satisfied: fsspec>=2023.5.0 in /opt/conda/lib/python3.10/site-packages (from huggingface_hub->timm) (2024.5.0)\nRequirement already satisfied: packaging>=20.9 in /opt/conda/lib/python3.10/site-packages (from huggingface_hub->timm) (21.3)\nRequirement already satisfied: requests in /opt/conda/lib/python3.10/site-packages (from huggingface_hub->timm) (2.32.3)\nRequirement already satisfied: tqdm>=4.42.1 in /opt/conda/lib/python3.10/site-packages (from huggingface_hub->timm) (4.66.4)\nRequirement already satisfied: typing-extensions>=3.7.4.3 in /opt/conda/lib/python3.10/site-packages (from huggingface_hub->timm) (4.9.0)\nRequirement already satisfied: sympy in /opt/conda/lib/python3.10/site-packages (from torch->timm) (1.13.0)\nRequirement already satisfied: networkx in /opt/conda/lib/python3.10/site-packages (from torch->timm) (3.2.1)\nRequirement already satisfied: jinja2 in /opt/conda/lib/python3.10/site-packages (from torch->timm) (3.1.2)\nRequirement already satisfied: numpy in /opt/conda/lib/python3.10/site-packages (from torchvision->timm) (1.26.4)\nRequirement already satisfied: pillow!=8.3.*,>=5.3.0 in /opt/conda/lib/python3.10/site-packages (from torchvision->timm) (9.5.0)\nRequirement already satisfied: pyparsing!=3.0.5,>=2.0.2 in /opt/conda/lib/python3.10/site-packages (from packaging>=20.9->huggingface_hub->timm) (3.1.1)\nRequirement already satisfied: MarkupSafe>=2.0 in /opt/conda/lib/python3.10/site-packages (from jinja2->torch->timm) (2.1.3)\nRequirement already satisfied: charset-normalizer<4,>=2 in /opt/conda/lib/python3.10/site-packages (from requests->huggingface_hub->timm) (3.3.2)\nRequirement already satisfied: idna<4,>=2.5 in /opt/conda/lib/python3.10/site-packages (from requests->huggingface_hub->timm) (3.6)\nRequirement already satisfied: urllib3<3,>=1.21.1 in /opt/conda/lib/python3.10/site-packages (from requests->huggingface_hub->timm) (1.26.18)\nRequirement already satisfied: certifi>=2017.4.17 in /opt/conda/lib/python3.10/site-packages (from requests->huggingface_hub->timm) (2024.7.4)\nRequirement already satisfied: mpmath<1.4,>=1.1.0 in /opt/conda/lib/python3.10/site-packages (from sympy->torch->timm) (1.3.0)\nRequirement already satisfied: colorama in /opt/conda/lib/python3.10/site-packages (0.4.6)\n",
          "output_type": "stream"
        }
      ]
    },
    {
      "cell_type": "code",
      "source": [
        "import os\n",
        "import gc\n",
        "import cv2\n",
        "import math\n",
        "import copy\n",
        "import time\n",
        "import random\n",
        "import glob\n",
        "from matplotlib import pyplot as plt\n",
        "\n",
        "# For data manipulation\n",
        "import numpy as np\n",
        "import pandas as pd\n",
        "\n",
        "# Pytorch Imports\n",
        "import torch\n",
        "import torch.nn as nn\n",
        "import torch.optim as optim\n",
        "import torch.nn.functional as F\n",
        "from torch.optim import lr_scheduler\n",
        "from torch.utils.data import Dataset, DataLoader\n",
        "from torch.cuda import amp\n",
        "import torchvision\n",
        "from torcheval.metrics.functional import binary_auroc\n",
        "\n",
        "# Utils\n",
        "import joblib\n",
        "from tqdm import tqdm\n",
        "from collections import defaultdict\n",
        "\n",
        "# Sklearn Imports\n",
        "from sklearn.preprocessing import LabelEncoder\n",
        "from sklearn.model_selection import StratifiedKFold, StratifiedGroupKFold\n",
        "\n",
        "# For Image Models\n",
        "import timm\n",
        "\n",
        "# Albumentations for augmentations\n",
        "import albumentations as A\n",
        "from albumentations.pytorch import ToTensorV2\n",
        "\n",
        "# For colored terminal text\n",
        "from colorama import Fore, Back, Style\n",
        "b_ = Fore.BLUE\n",
        "sr_ = Style.RESET_ALL\n",
        "\n",
        "import warnings\n",
        "warnings.filterwarnings(\"ignore\")\n",
        "\n",
        "# For descriptive error messages\n",
        "os.environ['CUDA_LAUNCH_BLOCKING'] = \"1\"\n",
        "\n",
        "\n",
        "\n",
        "import configparser\n",
        "import time\n",
        "import copy\n",
        "import numpy as np\n",
        "from collections import defaultdict\n",
        "import gc\n",
        "import torch\n",
        "\n"
      ],
      "metadata": {
        "execution": {
          "iopub.status.busy": "2024-08-29T01:36:00.688583Z",
          "iopub.execute_input": "2024-08-29T01:36:00.689019Z",
          "iopub.status.idle": "2024-08-29T01:36:05.139682Z",
          "shell.execute_reply.started": "2024-08-29T01:36:00.688982Z",
          "shell.execute_reply": "2024-08-29T01:36:05.138349Z"
        },
        "trusted": true,
        "id": "iD1WV-f8V_kj"
      },
      "execution_count": null,
      "outputs": []
    },
    {
      "cell_type": "code",
      "source": [
        "CONFIG = {\n",
        "    \"seed\": 42,\n",
        "    \"epochs\": 10,\n",
        "    \"img_size\": 384,\n",
        "    \"model_name\": \"tf_efficientnet_b0_ns\",\n",
        "    \"checkpoint_path\" : \"/kaggle/input/tf-efficientnet/pytorch/tf-efficientnet-b0/1/tf_efficientnet_b0_aa-827b6e33.pth\",\n",
        "    \"train_batch_size\": 32,\n",
        "    \"valid_batch_size\": 64,\n",
        "    \"learning_rate\": 1e-4,\n",
        "    \"scheduler\": 'CosineAnnealingLR',\n",
        "    \"min_lr\": 1e-6,\n",
        "    \"T_max\": 500,\n",
        "    \"weight_decay\": 1e-6,\n",
        "    \"fold\" : 0,\n",
        "    \"n_fold\": 5,\n",
        "    \"n_accumulate\": 1,\n",
        "    \"device\": torch.device(\"cuda:0\" if torch.cuda.is_available() else \"cpu\"),\n",
        "}"
      ],
      "metadata": {
        "execution": {
          "iopub.status.busy": "2024-08-29T01:36:05.141338Z",
          "iopub.execute_input": "2024-08-29T01:36:05.141964Z",
          "iopub.status.idle": "2024-08-29T01:36:05.148636Z",
          "shell.execute_reply.started": "2024-08-29T01:36:05.141926Z",
          "shell.execute_reply": "2024-08-29T01:36:05.147296Z"
        },
        "trusted": true,
        "id": "pI_6dRW4V_kj"
      },
      "execution_count": null,
      "outputs": []
    },
    {
      "cell_type": "code",
      "source": [
        "def set_seed(seed=42):\n",
        "    '''Sets the seed of the entire notebook so results are the same every time we run.\n",
        "    This is for REPRODUCIBILITY.'''\n",
        "    np.random.seed(seed)\n",
        "    torch.manual_seed(seed)\n",
        "    torch.cuda.manual_seed(seed)\n",
        "    # When running on the CuDNN backend, two further options must be set\n",
        "    torch.backends.cudnn.deterministic = True\n",
        "    torch.backends.cudnn.benchmark = False\n",
        "    # Set a fixed value for the hash seed\n",
        "    os.environ['PYTHONHASHSEED'] = str(seed)\n",
        "\n",
        "set_seed(CONFIG['seed'])"
      ],
      "metadata": {
        "execution": {
          "iopub.status.busy": "2024-08-29T01:36:05.15111Z",
          "iopub.execute_input": "2024-08-29T01:36:05.151565Z",
          "iopub.status.idle": "2024-08-29T01:36:05.172018Z",
          "shell.execute_reply.started": "2024-08-29T01:36:05.151532Z",
          "shell.execute_reply": "2024-08-29T01:36:05.170724Z"
        },
        "trusted": true,
        "id": "OSEKAbJmV_kj"
      },
      "execution_count": null,
      "outputs": []
    },
    {
      "cell_type": "code",
      "source": [
        "ROOT_DIR = \"/kaggle/input/isic-2024-challenge\"\n",
        "TRAIN_DIR = f'{ROOT_DIR}/train-image/image'"
      ],
      "metadata": {
        "execution": {
          "iopub.status.busy": "2024-08-29T01:36:05.173447Z",
          "iopub.execute_input": "2024-08-29T01:36:05.173933Z",
          "iopub.status.idle": "2024-08-29T01:36:05.186599Z",
          "shell.execute_reply.started": "2024-08-29T01:36:05.173891Z",
          "shell.execute_reply": "2024-08-29T01:36:05.185421Z"
        },
        "trusted": true,
        "id": "_qw_O4qQV_kk"
      },
      "execution_count": null,
      "outputs": []
    },
    {
      "cell_type": "code",
      "source": [
        "def get_train_file_path(image_id):\n",
        "    return f\"{TRAIN_DIR}/{image_id}.jpg\""
      ],
      "metadata": {
        "execution": {
          "iopub.status.busy": "2024-08-29T01:36:05.187817Z",
          "iopub.execute_input": "2024-08-29T01:36:05.188322Z",
          "iopub.status.idle": "2024-08-29T01:36:05.199861Z",
          "shell.execute_reply.started": "2024-08-29T01:36:05.188293Z",
          "shell.execute_reply": "2024-08-29T01:36:05.198398Z"
        },
        "trusted": true,
        "id": "HlgRpxYUV_kk"
      },
      "execution_count": null,
      "outputs": []
    },
    {
      "cell_type": "code",
      "source": [
        "train_images = sorted(glob.glob(f\"{TRAIN_DIR}/*.jpg\"))\n"
      ],
      "metadata": {
        "execution": {
          "iopub.status.busy": "2024-08-29T01:36:05.201383Z",
          "iopub.execute_input": "2024-08-29T01:36:05.201755Z",
          "iopub.status.idle": "2024-08-29T01:36:09.540211Z",
          "shell.execute_reply.started": "2024-08-29T01:36:05.201718Z",
          "shell.execute_reply": "2024-08-29T01:36:09.539068Z"
        },
        "trusted": true,
        "id": "-KnFanV_V_kk"
      },
      "execution_count": null,
      "outputs": []
    },
    {
      "cell_type": "code",
      "source": [
        "import os\n",
        "print(os.listdir(\"/kaggle/input\"))\n"
      ],
      "metadata": {
        "execution": {
          "iopub.status.busy": "2024-08-29T01:36:09.541584Z",
          "iopub.execute_input": "2024-08-29T01:36:09.541959Z",
          "iopub.status.idle": "2024-08-29T01:36:09.562849Z",
          "shell.execute_reply.started": "2024-08-29T01:36:09.541928Z",
          "shell.execute_reply": "2024-08-29T01:36:09.561421Z"
        },
        "trusted": true,
        "id": "8wR0SWW8V_kk",
        "outputId": "2f80292a-cb93-4a6a-ef54-8781184efc66"
      },
      "execution_count": null,
      "outputs": [
        {
          "name": "stdout",
          "text": "['isic_model', 'isic-2024-challenge', 'isic-training-model']\n",
          "output_type": "stream"
        }
      ]
    },
    {
      "cell_type": "code",
      "source": [],
      "metadata": {
        "id": "YWMbP2CIV_kk"
      },
      "execution_count": null,
      "outputs": []
    },
    {
      "cell_type": "code",
      "source": [
        "ROOT_DIR = \"/kaggle/input/isic-2024-challenge\"\n",
        "TRAIN_DIR = f'{ROOT_DIR}/train-image/image'\n",
        "\n",
        "df = pd.read_csv(f\"{ROOT_DIR}/train-metadata.csv\")\n",
        "\n",
        "print(\"        df.shape, # of positive cases, # of patients\")\n",
        "print(\"original>\", df.shape, df.target.sum(), df[\"patient_id\"].unique().shape)\n",
        "\n",
        "df_positive = df[df[\"target\"] == 1].reset_index(drop=True)\n",
        "df_negative = df[df[\"target\"] == 0].reset_index(drop=True)\n",
        "\n",
        "df = pd.concat([df_positive, df_negative.iloc[:df_positive.shape[0]*20, :]])  # positive:negative = 1:20\n",
        "print(\"filtered>\", df.shape, df.target.sum(), df[\"patient_id\"].unique().shape)\n",
        "\n",
        "df['file_path'] = df['isic_id'].apply(get_train_file_path)\n",
        "df = df[ df[\"file_path\"].isin(train_images) ].reset_index(drop=True)\n",
        "\n",
        "df"
      ],
      "metadata": {
        "execution": {
          "iopub.status.busy": "2024-08-29T01:36:09.564298Z",
          "iopub.execute_input": "2024-08-29T01:36:09.564786Z",
          "iopub.status.idle": "2024-08-29T01:36:18.458947Z",
          "shell.execute_reply.started": "2024-08-29T01:36:09.564736Z",
          "shell.execute_reply": "2024-08-29T01:36:18.457803Z"
        },
        "trusted": true,
        "id": "oAPo0xR0V_kk",
        "outputId": "00251455-123d-4380-f119-245ed9bf5b34"
      },
      "execution_count": null,
      "outputs": [
        {
          "name": "stdout",
          "text": "        df.shape, # of positive cases, # of patients\noriginal> (401059, 55) 393 (1042,)\nfiltered> (8253, 55) 393 (950,)\n",
          "output_type": "stream"
        },
        {
          "execution_count": 12,
          "output_type": "execute_result",
          "data": {
            "text/plain": "           isic_id  target  patient_id  age_approx     sex  \\\n0     ISIC_0082829       1  IP_3249371        80.0  female   \n1     ISIC_0096034       1  IP_6723298        75.0    male   \n2     ISIC_0104229       1  IP_9057861        80.0    male   \n3     ISIC_0119495       1  IP_6856511        60.0    male   \n4     ISIC_0157834       1  IP_3927284        55.0    male   \n...            ...     ...         ...         ...     ...   \n8248  ISIC_0267522       0  IP_9577633        50.0    male   \n8249  ISIC_0267560       0  IP_7746572        80.0    male   \n8250  ISIC_0267568       0  IP_0379091        60.0    male   \n8251  ISIC_0267594       0  IP_1433033        70.0     NaN   \n8252  ISIC_0267606       0  IP_8565023        30.0    male   \n\n     anatom_site_general  clin_size_long_diam_mm          image_type  \\\n0         anterior torso                    9.27  TBP tile: close-up   \n1              head/neck                    3.88  TBP tile: close-up   \n2         anterior torso                    6.55  TBP tile: close-up   \n3        upper extremity                    5.27  TBP tile: close-up   \n4        posterior torso                    5.29  TBP tile: close-up   \n...                  ...                     ...                 ...   \n8248     lower extremity                    4.94  TBP tile: close-up   \n8249      anterior torso                    9.32  TBP tile: close-up   \n8250      anterior torso                    3.45  TBP tile: close-up   \n8251     lower extremity                    3.00  TBP tile: close-up   \n8252           head/neck                    3.10  TBP tile: close-up   \n\n     tbp_tile_type   tbp_lv_A  ...  \\\n0           3D: XP  18.093368  ...   \n1        3D: white  26.187010  ...   \n2        3D: white  33.480140  ...   \n3        3D: white  25.872050  ...   \n4        3D: white  30.966662  ...   \n...            ...        ...  ...   \n8248        3D: XP  21.738880  ...   \n8249     3D: white  18.481750  ...   \n8250     3D: white  13.901465  ...   \n8251        3D: XP  17.986882  ...   \n8252        3D: XP  13.420060  ...   \n\n                                              iddx_full     iddx_1  \\\n0     Malignant::Malignant epidermal proliferations:...  Malignant   \n1     Malignant::Malignant adnexal epithelial prolif...  Malignant   \n2     Malignant::Malignant adnexal epithelial prolif...  Malignant   \n3     Malignant::Malignant epidermal proliferations:...  Malignant   \n4     Malignant::Malignant adnexal epithelial prolif...  Malignant   \n...                                                 ...        ...   \n8248                                             Benign     Benign   \n8249                                             Benign     Benign   \n8250                                             Benign     Benign   \n8251                                             Benign     Benign   \n8252                                             Benign     Benign   \n\n                                                 iddx_2  \\\n0                    Malignant epidermal proliferations   \n1     Malignant adnexal epithelial proliferations - ...   \n2     Malignant adnexal epithelial proliferations - ...   \n3                    Malignant epidermal proliferations   \n4     Malignant adnexal epithelial proliferations - ...   \n...                                                 ...   \n8248                                                NaN   \n8249                                                NaN   \n8250                                                NaN   \n8251                                                NaN   \n8252                                                NaN   \n\n                                 iddx_3                             iddx_4  \\\n0       Squamous cell carcinoma in situ                                NaN   \n1                  Basal cell carcinoma      Basal cell carcinoma, Nodular   \n2                  Basal cell carcinoma      Basal cell carcinoma, Nodular   \n3     Squamous cell carcinoma, Invasive                                NaN   \n4                  Basal cell carcinoma  Basal cell carcinoma, Superficial   \n...                                 ...                                ...   \n8248                                NaN                                NaN   \n8249                                NaN                                NaN   \n8250                                NaN                                NaN   \n8251                                NaN                                NaN   \n8252                                NaN                                NaN   \n\n      iddx_5  mel_mitotic_index  mel_thick_mm  tbp_lv_dnn_lesion_confidence  \\\n0        NaN                NaN           NaN                     72.211683   \n1        NaN                NaN           NaN                     94.559590   \n2        NaN                NaN           NaN                     66.196170   \n3        NaN                NaN           NaN                     99.991270   \n4        NaN                NaN           NaN                     99.960846   \n...      ...                ...           ...                           ...   \n8248     NaN                NaN           NaN                     96.325510   \n8249     NaN                NaN           NaN                     97.022320   \n8250     NaN                NaN           NaN                     72.961688   \n8251     NaN                NaN           NaN                     99.899274   \n8252     NaN                NaN           NaN                     99.449560   \n\n                                              file_path  \n0     /kaggle/input/isic-2024-challenge/train-image/...  \n1     /kaggle/input/isic-2024-challenge/train-image/...  \n2     /kaggle/input/isic-2024-challenge/train-image/...  \n3     /kaggle/input/isic-2024-challenge/train-image/...  \n4     /kaggle/input/isic-2024-challenge/train-image/...  \n...                                                 ...  \n8248  /kaggle/input/isic-2024-challenge/train-image/...  \n8249  /kaggle/input/isic-2024-challenge/train-image/...  \n8250  /kaggle/input/isic-2024-challenge/train-image/...  \n8251  /kaggle/input/isic-2024-challenge/train-image/...  \n8252  /kaggle/input/isic-2024-challenge/train-image/...  \n\n[8253 rows x 56 columns]",
            "text/html": "<div>\n<style scoped>\n    .dataframe tbody tr th:only-of-type {\n        vertical-align: middle;\n    }\n\n    .dataframe tbody tr th {\n        vertical-align: top;\n    }\n\n    .dataframe thead th {\n        text-align: right;\n    }\n</style>\n<table border=\"1\" class=\"dataframe\">\n  <thead>\n    <tr style=\"text-align: right;\">\n      <th></th>\n      <th>isic_id</th>\n      <th>target</th>\n      <th>patient_id</th>\n      <th>age_approx</th>\n      <th>sex</th>\n      <th>anatom_site_general</th>\n      <th>clin_size_long_diam_mm</th>\n      <th>image_type</th>\n      <th>tbp_tile_type</th>\n      <th>tbp_lv_A</th>\n      <th>...</th>\n      <th>iddx_full</th>\n      <th>iddx_1</th>\n      <th>iddx_2</th>\n      <th>iddx_3</th>\n      <th>iddx_4</th>\n      <th>iddx_5</th>\n      <th>mel_mitotic_index</th>\n      <th>mel_thick_mm</th>\n      <th>tbp_lv_dnn_lesion_confidence</th>\n      <th>file_path</th>\n    </tr>\n  </thead>\n  <tbody>\n    <tr>\n      <th>0</th>\n      <td>ISIC_0082829</td>\n      <td>1</td>\n      <td>IP_3249371</td>\n      <td>80.0</td>\n      <td>female</td>\n      <td>anterior torso</td>\n      <td>9.27</td>\n      <td>TBP tile: close-up</td>\n      <td>3D: XP</td>\n      <td>18.093368</td>\n      <td>...</td>\n      <td>Malignant::Malignant epidermal proliferations:...</td>\n      <td>Malignant</td>\n      <td>Malignant epidermal proliferations</td>\n      <td>Squamous cell carcinoma in situ</td>\n      <td>NaN</td>\n      <td>NaN</td>\n      <td>NaN</td>\n      <td>NaN</td>\n      <td>72.211683</td>\n      <td>/kaggle/input/isic-2024-challenge/train-image/...</td>\n    </tr>\n    <tr>\n      <th>1</th>\n      <td>ISIC_0096034</td>\n      <td>1</td>\n      <td>IP_6723298</td>\n      <td>75.0</td>\n      <td>male</td>\n      <td>head/neck</td>\n      <td>3.88</td>\n      <td>TBP tile: close-up</td>\n      <td>3D: white</td>\n      <td>26.187010</td>\n      <td>...</td>\n      <td>Malignant::Malignant adnexal epithelial prolif...</td>\n      <td>Malignant</td>\n      <td>Malignant adnexal epithelial proliferations - ...</td>\n      <td>Basal cell carcinoma</td>\n      <td>Basal cell carcinoma, Nodular</td>\n      <td>NaN</td>\n      <td>NaN</td>\n      <td>NaN</td>\n      <td>94.559590</td>\n      <td>/kaggle/input/isic-2024-challenge/train-image/...</td>\n    </tr>\n    <tr>\n      <th>2</th>\n      <td>ISIC_0104229</td>\n      <td>1</td>\n      <td>IP_9057861</td>\n      <td>80.0</td>\n      <td>male</td>\n      <td>anterior torso</td>\n      <td>6.55</td>\n      <td>TBP tile: close-up</td>\n      <td>3D: white</td>\n      <td>33.480140</td>\n      <td>...</td>\n      <td>Malignant::Malignant adnexal epithelial prolif...</td>\n      <td>Malignant</td>\n      <td>Malignant adnexal epithelial proliferations - ...</td>\n      <td>Basal cell carcinoma</td>\n      <td>Basal cell carcinoma, Nodular</td>\n      <td>NaN</td>\n      <td>NaN</td>\n      <td>NaN</td>\n      <td>66.196170</td>\n      <td>/kaggle/input/isic-2024-challenge/train-image/...</td>\n    </tr>\n    <tr>\n      <th>3</th>\n      <td>ISIC_0119495</td>\n      <td>1</td>\n      <td>IP_6856511</td>\n      <td>60.0</td>\n      <td>male</td>\n      <td>upper extremity</td>\n      <td>5.27</td>\n      <td>TBP tile: close-up</td>\n      <td>3D: white</td>\n      <td>25.872050</td>\n      <td>...</td>\n      <td>Malignant::Malignant epidermal proliferations:...</td>\n      <td>Malignant</td>\n      <td>Malignant epidermal proliferations</td>\n      <td>Squamous cell carcinoma, Invasive</td>\n      <td>NaN</td>\n      <td>NaN</td>\n      <td>NaN</td>\n      <td>NaN</td>\n      <td>99.991270</td>\n      <td>/kaggle/input/isic-2024-challenge/train-image/...</td>\n    </tr>\n    <tr>\n      <th>4</th>\n      <td>ISIC_0157834</td>\n      <td>1</td>\n      <td>IP_3927284</td>\n      <td>55.0</td>\n      <td>male</td>\n      <td>posterior torso</td>\n      <td>5.29</td>\n      <td>TBP tile: close-up</td>\n      <td>3D: white</td>\n      <td>30.966662</td>\n      <td>...</td>\n      <td>Malignant::Malignant adnexal epithelial prolif...</td>\n      <td>Malignant</td>\n      <td>Malignant adnexal epithelial proliferations - ...</td>\n      <td>Basal cell carcinoma</td>\n      <td>Basal cell carcinoma, Superficial</td>\n      <td>NaN</td>\n      <td>NaN</td>\n      <td>NaN</td>\n      <td>99.960846</td>\n      <td>/kaggle/input/isic-2024-challenge/train-image/...</td>\n    </tr>\n    <tr>\n      <th>...</th>\n      <td>...</td>\n      <td>...</td>\n      <td>...</td>\n      <td>...</td>\n      <td>...</td>\n      <td>...</td>\n      <td>...</td>\n      <td>...</td>\n      <td>...</td>\n      <td>...</td>\n      <td>...</td>\n      <td>...</td>\n      <td>...</td>\n      <td>...</td>\n      <td>...</td>\n      <td>...</td>\n      <td>...</td>\n      <td>...</td>\n      <td>...</td>\n      <td>...</td>\n      <td>...</td>\n    </tr>\n    <tr>\n      <th>8248</th>\n      <td>ISIC_0267522</td>\n      <td>0</td>\n      <td>IP_9577633</td>\n      <td>50.0</td>\n      <td>male</td>\n      <td>lower extremity</td>\n      <td>4.94</td>\n      <td>TBP tile: close-up</td>\n      <td>3D: XP</td>\n      <td>21.738880</td>\n      <td>...</td>\n      <td>Benign</td>\n      <td>Benign</td>\n      <td>NaN</td>\n      <td>NaN</td>\n      <td>NaN</td>\n      <td>NaN</td>\n      <td>NaN</td>\n      <td>NaN</td>\n      <td>96.325510</td>\n      <td>/kaggle/input/isic-2024-challenge/train-image/...</td>\n    </tr>\n    <tr>\n      <th>8249</th>\n      <td>ISIC_0267560</td>\n      <td>0</td>\n      <td>IP_7746572</td>\n      <td>80.0</td>\n      <td>male</td>\n      <td>anterior torso</td>\n      <td>9.32</td>\n      <td>TBP tile: close-up</td>\n      <td>3D: white</td>\n      <td>18.481750</td>\n      <td>...</td>\n      <td>Benign</td>\n      <td>Benign</td>\n      <td>NaN</td>\n      <td>NaN</td>\n      <td>NaN</td>\n      <td>NaN</td>\n      <td>NaN</td>\n      <td>NaN</td>\n      <td>97.022320</td>\n      <td>/kaggle/input/isic-2024-challenge/train-image/...</td>\n    </tr>\n    <tr>\n      <th>8250</th>\n      <td>ISIC_0267568</td>\n      <td>0</td>\n      <td>IP_0379091</td>\n      <td>60.0</td>\n      <td>male</td>\n      <td>anterior torso</td>\n      <td>3.45</td>\n      <td>TBP tile: close-up</td>\n      <td>3D: white</td>\n      <td>13.901465</td>\n      <td>...</td>\n      <td>Benign</td>\n      <td>Benign</td>\n      <td>NaN</td>\n      <td>NaN</td>\n      <td>NaN</td>\n      <td>NaN</td>\n      <td>NaN</td>\n      <td>NaN</td>\n      <td>72.961688</td>\n      <td>/kaggle/input/isic-2024-challenge/train-image/...</td>\n    </tr>\n    <tr>\n      <th>8251</th>\n      <td>ISIC_0267594</td>\n      <td>0</td>\n      <td>IP_1433033</td>\n      <td>70.0</td>\n      <td>NaN</td>\n      <td>lower extremity</td>\n      <td>3.00</td>\n      <td>TBP tile: close-up</td>\n      <td>3D: XP</td>\n      <td>17.986882</td>\n      <td>...</td>\n      <td>Benign</td>\n      <td>Benign</td>\n      <td>NaN</td>\n      <td>NaN</td>\n      <td>NaN</td>\n      <td>NaN</td>\n      <td>NaN</td>\n      <td>NaN</td>\n      <td>99.899274</td>\n      <td>/kaggle/input/isic-2024-challenge/train-image/...</td>\n    </tr>\n    <tr>\n      <th>8252</th>\n      <td>ISIC_0267606</td>\n      <td>0</td>\n      <td>IP_8565023</td>\n      <td>30.0</td>\n      <td>male</td>\n      <td>head/neck</td>\n      <td>3.10</td>\n      <td>TBP tile: close-up</td>\n      <td>3D: XP</td>\n      <td>13.420060</td>\n      <td>...</td>\n      <td>Benign</td>\n      <td>Benign</td>\n      <td>NaN</td>\n      <td>NaN</td>\n      <td>NaN</td>\n      <td>NaN</td>\n      <td>NaN</td>\n      <td>NaN</td>\n      <td>99.449560</td>\n      <td>/kaggle/input/isic-2024-challenge/train-image/...</td>\n    </tr>\n  </tbody>\n</table>\n<p>8253 rows × 56 columns</p>\n</div>"
          },
          "metadata": {}
        }
      ]
    },
    {
      "cell_type": "code",
      "source": [
        "column_names = df.columns\n",
        "\n",
        "# Print the column names\n",
        "print(column_names)"
      ],
      "metadata": {
        "execution": {
          "iopub.status.busy": "2024-08-29T01:36:18.460214Z",
          "iopub.execute_input": "2024-08-29T01:36:18.460536Z",
          "iopub.status.idle": "2024-08-29T01:36:18.466321Z",
          "shell.execute_reply.started": "2024-08-29T01:36:18.46051Z",
          "shell.execute_reply": "2024-08-29T01:36:18.465116Z"
        },
        "trusted": true,
        "id": "Fuy1lwQWV_kk",
        "outputId": "3b11d55f-0b35-45f1-cf6c-4574663e6155"
      },
      "execution_count": null,
      "outputs": [
        {
          "name": "stdout",
          "text": "Index(['isic_id', 'target', 'patient_id', 'age_approx', 'sex',\n       'anatom_site_general', 'clin_size_long_diam_mm', 'image_type',\n       'tbp_tile_type', 'tbp_lv_A', 'tbp_lv_Aext', 'tbp_lv_B', 'tbp_lv_Bext',\n       'tbp_lv_C', 'tbp_lv_Cext', 'tbp_lv_H', 'tbp_lv_Hext', 'tbp_lv_L',\n       'tbp_lv_Lext', 'tbp_lv_areaMM2', 'tbp_lv_area_perim_ratio',\n       'tbp_lv_color_std_mean', 'tbp_lv_deltaA', 'tbp_lv_deltaB',\n       'tbp_lv_deltaL', 'tbp_lv_deltaLB', 'tbp_lv_deltaLBnorm',\n       'tbp_lv_eccentricity', 'tbp_lv_location', 'tbp_lv_location_simple',\n       'tbp_lv_minorAxisMM', 'tbp_lv_nevi_confidence', 'tbp_lv_norm_border',\n       'tbp_lv_norm_color', 'tbp_lv_perimeterMM',\n       'tbp_lv_radial_color_std_max', 'tbp_lv_stdL', 'tbp_lv_stdLExt',\n       'tbp_lv_symm_2axis', 'tbp_lv_symm_2axis_angle', 'tbp_lv_x', 'tbp_lv_y',\n       'tbp_lv_z', 'attribution', 'copyright_license', 'lesion_id',\n       'iddx_full', 'iddx_1', 'iddx_2', 'iddx_3', 'iddx_4', 'iddx_5',\n       'mel_mitotic_index', 'mel_thick_mm', 'tbp_lv_dnn_lesion_confidence',\n       'file_path'],\n      dtype='object')\n",
          "output_type": "stream"
        }
      ]
    },
    {
      "cell_type": "code",
      "source": [
        "df.shape[0], df.target.sum()"
      ],
      "metadata": {
        "execution": {
          "iopub.status.busy": "2024-08-29T01:36:18.470741Z",
          "iopub.execute_input": "2024-08-29T01:36:18.471517Z",
          "iopub.status.idle": "2024-08-29T01:36:18.479076Z",
          "shell.execute_reply.started": "2024-08-29T01:36:18.471484Z",
          "shell.execute_reply": "2024-08-29T01:36:18.478015Z"
        },
        "trusted": true,
        "id": "57ESjlVRV_kk",
        "outputId": "4946c685-f6ff-4a18-f1a0-4db1679cc7b7"
      },
      "execution_count": null,
      "outputs": [
        {
          "execution_count": 14,
          "output_type": "execute_result",
          "data": {
            "text/plain": "(8253, 393)"
          },
          "metadata": {}
        }
      ]
    },
    {
      "cell_type": "code",
      "source": [
        "CONFIG['T_max'] = df.shape[0] * (CONFIG[\"n_fold\"]-1) * CONFIG['epochs'] // CONFIG['train_batch_size'] // CONFIG[\"n_fold\"]\n",
        "CONFIG['T_max']"
      ],
      "metadata": {
        "execution": {
          "iopub.status.busy": "2024-08-29T01:36:18.480782Z",
          "iopub.execute_input": "2024-08-29T01:36:18.481249Z",
          "iopub.status.idle": "2024-08-29T01:36:18.492623Z",
          "shell.execute_reply.started": "2024-08-29T01:36:18.481207Z",
          "shell.execute_reply": "2024-08-29T01:36:18.491537Z"
        },
        "trusted": true,
        "id": "vmsztEDTV_kk",
        "outputId": "8eb84d2e-d0aa-49b7-ae87-225876efebc5"
      },
      "execution_count": null,
      "outputs": [
        {
          "execution_count": 15,
          "output_type": "execute_result",
          "data": {
            "text/plain": "2063"
          },
          "metadata": {}
        }
      ]
    },
    {
      "cell_type": "code",
      "source": [
        "sgkf = StratifiedGroupKFold(n_splits=CONFIG['n_fold'])\n",
        "\n",
        "for fold, ( _, val_) in enumerate(sgkf.split(df, df.target,df.patient_id)):\n",
        "      df.loc[val_ , \"kfold\"] = int(fold)\n"
      ],
      "metadata": {
        "execution": {
          "iopub.status.busy": "2024-08-29T01:36:18.493952Z",
          "iopub.execute_input": "2024-08-29T01:36:18.49432Z",
          "iopub.status.idle": "2024-08-29T01:36:18.916868Z",
          "shell.execute_reply.started": "2024-08-29T01:36:18.494289Z",
          "shell.execute_reply": "2024-08-29T01:36:18.915591Z"
        },
        "trusted": true,
        "id": "iFNGWbd8V_kk"
      },
      "execution_count": null,
      "outputs": []
    },
    {
      "cell_type": "code",
      "source": [
        "class ISICDataset_for_Train(Dataset):\n",
        "    def __init__(self, df, transforms=None):\n",
        "        self.df_positive = df[df[\"target\"] == 1].reset_index()\n",
        "        self.df_negative = df[df[\"target\"] == 0].reset_index()\n",
        "        self.file_names_positive = self.df_positive['file_path'].values\n",
        "        self.file_names_negative = self.df_negative['file_path'].values\n",
        "        self.targets_positive = self.df_positive['target'].values\n",
        "        self.targets_negative = self.df_negative['target'].values\n",
        "        self.transforms = transforms\n",
        "\n",
        "    def __len__(self):\n",
        "        return len(self.df_positive) * 2\n",
        "\n",
        "    def __getitem__(self, index):\n",
        "        if random.random() >= 0.5:\n",
        "            df = self.df_positive\n",
        "            file_names = self.file_names_positive\n",
        "            targets = self.targets_positive\n",
        "        else:\n",
        "            df = self.df_negative\n",
        "            file_names = self.file_names_negative\n",
        "            targets = self.targets_negative\n",
        "        index = index % df.shape[0]\n",
        "\n",
        "        img_path = file_names[index]\n",
        "        img = cv2.imread(img_path)\n",
        "        img = cv2.cvtColor(img, cv2.COLOR_BGR2RGB)\n",
        "        target = targets[index]\n",
        "\n",
        "        if self.transforms:\n",
        "            img = self.transforms(image=img)[\"image\"]\n",
        "        return {\n",
        "            'image': img,\n",
        "            'target': target\n",
        "        }\n",
        "\n",
        "class ISICDataset(Dataset):\n",
        "    def __init__(self, df, transforms=None):\n",
        "        self.df = df\n",
        "        self.file_names = df['file_path'].values\n",
        "        self.image_ids = df['isic_id'].values\n",
        "        self.targets = df['target'].values\n",
        "        self.transforms = transforms\n",
        "\n",
        "    def __len__(self):\n",
        "        return len(self.df)\n",
        "\n",
        "    def __getitem__(self, index):\n",
        "        img_path = self.file_names[index]\n",
        "        img = cv2.imread(img_path)\n",
        "        img = cv2.cvtColor(img, cv2.COLOR_BGR2RGB)\n",
        "        image_id = self.image_ids[index]\n",
        "        target = self.targets[index]\n",
        "\n",
        "        if self.transforms:\n",
        "            img = self.transforms(image=img)[\"image\"]\n",
        "\n",
        "        return {\n",
        "            'image': img,\n",
        "            'image_id': image_id,\n",
        "            'target': target\n",
        "        }"
      ],
      "metadata": {
        "execution": {
          "iopub.status.busy": "2024-08-29T01:36:18.918501Z",
          "iopub.execute_input": "2024-08-29T01:36:18.918835Z",
          "iopub.status.idle": "2024-08-29T01:36:18.9321Z",
          "shell.execute_reply.started": "2024-08-29T01:36:18.91881Z",
          "shell.execute_reply": "2024-08-29T01:36:18.930736Z"
        },
        "trusted": true,
        "id": "CK71TEZeV_kk"
      },
      "execution_count": null,
      "outputs": []
    },
    {
      "cell_type": "code",
      "source": [
        "data_transforms = {\n",
        "    \"train\": A.Compose([\n",
        "        A.Resize(CONFIG['img_size'], CONFIG['img_size']),\n",
        "        A.RandomRotate90(p=0.5),\n",
        "        A.Flip(p=0.5),\n",
        "        A.Downscale(p=0.25),\n",
        "        A.ShiftScaleRotate(shift_limit=0.1,\n",
        "                           scale_limit=0.15,\n",
        "                           rotate_limit=60,\n",
        "                           p=0.5),\n",
        "        A.HueSaturationValue(\n",
        "                hue_shift_limit=0.2,\n",
        "                sat_shift_limit=0.2,\n",
        "                val_shift_limit=0.2,\n",
        "                p=0.5\n",
        "            ),\n",
        "        A.RandomBrightnessContrast(\n",
        "                brightness_limit=(-0.1,0.1),\n",
        "                contrast_limit=(-0.1, 0.1),\n",
        "                p=0.5\n",
        "            ),\n",
        "        A.Normalize(\n",
        "                mean=[0.485, 0.456, 0.406],\n",
        "                std=[0.229, 0.224, 0.225],\n",
        "                max_pixel_value=255.0,\n",
        "                p=1.0\n",
        "            ),\n",
        "        ToTensorV2()], p=1.),\n",
        "\n",
        "    \"valid\": A.Compose([\n",
        "        A.Resize(CONFIG['img_size'], CONFIG['img_size']),\n",
        "        A.Normalize(\n",
        "                mean=[0.485, 0.456, 0.406],\n",
        "                std=[0.229, 0.224, 0.225],\n",
        "                max_pixel_value=255.0,\n",
        "                p=1.0\n",
        "            ),\n",
        "        ToTensorV2()], p=1.)\n",
        "}"
      ],
      "metadata": {
        "execution": {
          "iopub.status.busy": "2024-08-29T01:36:18.933714Z",
          "iopub.execute_input": "2024-08-29T01:36:18.934099Z",
          "iopub.status.idle": "2024-08-29T01:36:18.966869Z",
          "shell.execute_reply.started": "2024-08-29T01:36:18.934068Z",
          "shell.execute_reply": "2024-08-29T01:36:18.965847Z"
        },
        "trusted": true,
        "id": "Kow3-vw8V_kl"
      },
      "execution_count": null,
      "outputs": []
    },
    {
      "cell_type": "code",
      "source": [
        "class GeM(nn.Module):\n",
        "    def __init__(self, p=3, eps=1e-6):\n",
        "        super(GeM, self).__init__()\n",
        "        self.p = nn.Parameter(torch.ones(1)*p)\n",
        "        self.eps = eps\n",
        "\n",
        "    def forward(self, x):\n",
        "        return self.gem(x, p=self.p, eps=self.eps)\n",
        "\n",
        "    def gem(self, x, p=3, eps=1e-6):\n",
        "        return F.avg_pool2d(x.clamp(min=eps).pow(p), (x.size(-2), x.size(-1))).pow(1./p)\n",
        "\n",
        "    def __repr__(self):\n",
        "        return self.__class__.__name__ + \\\n",
        "                '(' + 'p=' + '{:.4f}'.format(self.p.data.tolist()[0]) + \\\n",
        "                ', ' + 'eps=' + str(self.eps) + ')'"
      ],
      "metadata": {
        "execution": {
          "iopub.status.busy": "2024-08-29T01:36:18.968097Z",
          "iopub.execute_input": "2024-08-29T01:36:18.968415Z",
          "iopub.status.idle": "2024-08-29T01:36:18.982591Z",
          "shell.execute_reply.started": "2024-08-29T01:36:18.968391Z",
          "shell.execute_reply": "2024-08-29T01:36:18.981327Z"
        },
        "trusted": true,
        "id": "lm5_WXrBV_kl"
      },
      "execution_count": null,
      "outputs": []
    },
    {
      "cell_type": "code",
      "source": [
        "class ISICModel(nn.Module):\n",
        "    def __init__(self, model_name, num_classes=1, pretrained=True, checkpoint_path=None):\n",
        "        super(ISICModel, self).__init__()\n",
        "        self.model = timm.create_model(model_name, pretrained=pretrained, checkpoint_path=None)\n",
        "\n",
        "        in_features = self.model.classifier.in_features\n",
        "        self.model.classifier = nn.Identity()\n",
        "        self.model.global_pool = nn.Identity()\n",
        "        self.pooling = GeM()\n",
        "        self.linear = nn.Linear(in_features, num_classes)\n",
        "        self.sigmoid = nn.Sigmoid()\n",
        "\n",
        "    def forward(self, images):\n",
        "        features = self.model(images)\n",
        "        pooled_features = self.pooling(features).flatten(1)\n",
        "        output = self.sigmoid(self.linear(pooled_features))\n",
        "        return output\n",
        "\n",
        "\n",
        "model = ISICModel(CONFIG['model_name'])\n",
        "model.to(CONFIG['device']);"
      ],
      "metadata": {
        "execution": {
          "iopub.status.busy": "2024-08-29T01:36:18.984021Z",
          "iopub.execute_input": "2024-08-29T01:36:18.984405Z",
          "iopub.status.idle": "2024-08-29T01:36:19.633608Z",
          "shell.execute_reply.started": "2024-08-29T01:36:18.984374Z",
          "shell.execute_reply": "2024-08-29T01:36:19.632161Z"
        },
        "trusted": true,
        "id": "iSvpdixMV_kl",
        "outputId": "8aa8b33d-70e5-42ba-9fd6-b9a7a303d8cc",
        "colab": {
          "referenced_widgets": [
            "77b322c96b114b958fa8899b192ee9ea"
          ]
        }
      },
      "execution_count": null,
      "outputs": [
        {
          "output_type": "display_data",
          "data": {
            "text/plain": "model.safetensors:   0%|          | 0.00/21.4M [00:00<?, ?B/s]",
            "application/vnd.jupyter.widget-view+json": {
              "version_major": 2,
              "version_minor": 0,
              "model_id": "77b322c96b114b958fa8899b192ee9ea"
            }
          },
          "metadata": {}
        }
      ]
    },
    {
      "cell_type": "code",
      "source": [
        "def criterion(outputs, targets):\n",
        "    return nn.BCELoss()(outputs, targets)"
      ],
      "metadata": {
        "execution": {
          "iopub.status.busy": "2024-08-29T01:36:19.635042Z",
          "iopub.execute_input": "2024-08-29T01:36:19.635394Z",
          "iopub.status.idle": "2024-08-29T01:36:19.640872Z",
          "shell.execute_reply.started": "2024-08-29T01:36:19.635366Z",
          "shell.execute_reply": "2024-08-29T01:36:19.639522Z"
        },
        "trusted": true,
        "id": "ZoKFVtj7V_kl"
      },
      "execution_count": null,
      "outputs": []
    },
    {
      "cell_type": "code",
      "source": [
        "def train_one_epoch(model, optimizer, scheduler, dataloader, device, epoch):\n",
        "    model.train()\n",
        "\n",
        "    dataset_size = 0\n",
        "    running_loss = 0.0\n",
        "    running_auroc  = 0.0\n",
        "\n",
        "    bar = tqdm(enumerate(dataloader), total=len(dataloader))\n",
        "    for step, data in bar:\n",
        "        images = data['image'].to(device, dtype=torch.float)\n",
        "        targets = data['target'].to(device, dtype=torch.float)\n",
        "\n",
        "        batch_size = images.size(0)\n",
        "\n",
        "        outputs = model(images).squeeze()\n",
        "        loss = criterion(outputs, targets)\n",
        "        loss = loss / CONFIG['n_accumulate']\n",
        "\n",
        "        loss.backward()\n",
        "\n",
        "        if (step + 1) % CONFIG['n_accumulate'] == 0:\n",
        "            optimizer.step()\n",
        "\n",
        "            # zero the parameter gradients\n",
        "            optimizer.zero_grad()\n",
        "\n",
        "            if scheduler is not None:\n",
        "                scheduler.step()\n",
        "\n",
        "        auroc = binary_auroc(input=outputs.squeeze(), target=targets).item()\n",
        "\n",
        "        running_loss += (loss.item() * batch_size)\n",
        "        running_auroc  += (auroc * batch_size)\n",
        "        dataset_size += batch_size\n",
        "\n",
        "        epoch_loss = running_loss / dataset_size\n",
        "        epoch_auroc = running_auroc / dataset_size\n",
        "\n",
        "        bar.set_postfix(Epoch=epoch, Train_Loss=epoch_loss, Train_Auroc=epoch_auroc,\n",
        "                        LR=optimizer.param_groups[0]['lr'])\n",
        "    gc.collect()\n",
        "\n",
        "    return epoch_loss, epoch_auroc"
      ],
      "metadata": {
        "execution": {
          "iopub.status.busy": "2024-08-29T01:36:19.64238Z",
          "iopub.execute_input": "2024-08-29T01:36:19.642755Z",
          "iopub.status.idle": "2024-08-29T01:36:19.657558Z",
          "shell.execute_reply.started": "2024-08-29T01:36:19.642726Z",
          "shell.execute_reply": "2024-08-29T01:36:19.6563Z"
        },
        "trusted": true,
        "id": "3YCvyBApV_kl"
      },
      "execution_count": null,
      "outputs": []
    },
    {
      "cell_type": "code",
      "source": [
        "@torch.inference_mode()\n",
        "def valid_one_epoch(model, dataloader, device, epoch):\n",
        "    model.eval()\n",
        "\n",
        "    dataset_size = 0\n",
        "    running_loss = 0.0\n",
        "    running_auroc = 0.0\n",
        "\n",
        "    bar = tqdm(enumerate(dataloader), total=len(dataloader))\n",
        "    for step, data in bar:\n",
        "        images = data['image'].to(device, dtype=torch.float)\n",
        "        targets = data['target'].to(device, dtype=torch.float)\n",
        "\n",
        "        batch_size = images.size(0)\n",
        "\n",
        "        outputs = model(images).squeeze()\n",
        "        loss = criterion(outputs, targets)\n",
        "\n",
        "        auroc = binary_auroc(input=outputs.squeeze(), target=targets).item()\n",
        "        running_loss += (loss.item() * batch_size)\n",
        "        running_auroc  += (auroc * batch_size)\n",
        "        dataset_size += batch_size\n",
        "\n",
        "        epoch_loss = running_loss / dataset_size\n",
        "        epoch_auroc = running_auroc / dataset_size\n",
        "\n",
        "        bar.set_postfix(Epoch=epoch, Valid_Loss=epoch_loss, Valid_Auroc=epoch_auroc,\n",
        "                        LR=optimizer.param_groups[0]['lr'])\n",
        "\n",
        "    gc.collect()\n",
        "\n",
        "    return epoch_loss, epoch_auroc"
      ],
      "metadata": {
        "execution": {
          "iopub.status.busy": "2024-08-29T01:36:19.658972Z",
          "iopub.execute_input": "2024-08-29T01:36:19.659383Z",
          "iopub.status.idle": "2024-08-29T01:36:19.678174Z",
          "shell.execute_reply.started": "2024-08-29T01:36:19.659352Z",
          "shell.execute_reply": "2024-08-29T01:36:19.676822Z"
        },
        "trusted": true,
        "id": "8HMWny6eV_kl"
      },
      "execution_count": null,
      "outputs": []
    },
    {
      "cell_type": "code",
      "source": [
        "\n",
        "\n",
        "def run_training(model, optimizer, scheduler, device, num_epochs, train_loader, valid_loader, CONFIG):\n",
        "    if torch.cuda.is_available():\n",
        "        print(\"[INFO] Using GPU: {}\\n\".format(torch.cuda.get_device_name()))\n",
        "\n",
        "    start = time.time()\n",
        "    best_model_wts = copy.deepcopy(model.state_dict())\n",
        "    best_epoch_auroc = -np.inf\n",
        "    history = defaultdict(list)\n",
        "\n",
        "    for epoch in range(1, num_epochs + 1):\n",
        "        gc.collect()\n",
        "        train_epoch_loss, train_epoch_auroc = train_one_epoch(model, optimizer, scheduler,\n",
        "                                           dataloader=train_loader,\n",
        "                                           device=CONFIG['device'], epoch=epoch)\n",
        "        val_epoch_loss, val_epoch_auroc = valid_one_epoch(model, valid_loader, device=CONFIG['device'],\n",
        "                                         epoch=epoch)\n",
        "\n",
        "        history['Train Loss'].append(train_epoch_loss)\n",
        "        history['Valid Loss'].append(val_epoch_loss)\n",
        "        history['Train AUROC'].append(train_epoch_auroc)\n",
        "        history['Valid AUROC'].append(val_epoch_auroc)\n",
        "        history['lr'].append(scheduler.get_lr()[0])\n",
        "\n",
        "        # deep copy the model\n",
        "        if best_epoch_auroc <= val_epoch_auroc:\n",
        "            print(f\"{b_}Validation AUROC Improved ({best_epoch_auroc} ---> {val_epoch_auroc})\")\n",
        "            best_epoch_auroc = val_epoch_auroc\n",
        "            best_model_wts = copy.deepcopy(model.state_dict())\n",
        "\n",
        "            # Save model to .bin file\n",
        "            PATH = f\"AUROC{val_epoch_auroc:.4f}_Loss{val_epoch_loss:.4f}_epoch{epoch:.0f}.bin\"\n",
        "            torch.save(model.state_dict(), PATH)\n",
        "            print(f\"Model Saved to {PATH}{sr_}\")\n",
        "\n",
        "            # Save model weights to .CONFIG file\n",
        "            config = configparser.ConfigParser()\n",
        "            config['MODEL_WEIGHTS'] = {}\n",
        "            for key, tensor in best_model_wts.items():\n",
        "                weights_str = ','.join(map(str, tensor.flatten().tolist()))\n",
        "                config['MODEL_WEIGHTS'][key] = weights_str\n",
        "\n",
        "            CONFIG_PATH = f\"AUROC{val_epoch_auroc:.4f}_Loss{val_epoch_loss:.4f}_epoch{epoch:.0f}.CONFIG\"\n",
        "            with open(CONFIG_PATH, 'w') as configfile:\n",
        "                config.write(configfile)\n",
        "            print(f\"Model weights saved to {CONFIG_PATH}\")\n",
        "\n",
        "        print()\n",
        "\n",
        "    end = time.time()\n",
        "    time_elapsed = end - start\n",
        "    print('Training complete in {:.0f}h {:.0f}m {:.0f}s'.format(\n",
        "        time_elapsed // 3600, (time_elapsed % 3600) // 60, (time_elapsed % 3600) % 60))\n",
        "    print(\"Best AUROC: {:.4f}\".format(best_epoch_auroc))\n",
        "\n",
        "    # load best model weights\n",
        "    model.load_state_dict(best_model_wts)\n",
        "    return model, history, CONFIG_PATH"
      ],
      "metadata": {
        "execution": {
          "iopub.status.busy": "2024-08-29T01:36:19.680415Z",
          "iopub.execute_input": "2024-08-29T01:36:19.680803Z",
          "iopub.status.idle": "2024-08-29T01:36:19.696358Z",
          "shell.execute_reply.started": "2024-08-29T01:36:19.680759Z",
          "shell.execute_reply": "2024-08-29T01:36:19.695083Z"
        },
        "trusted": true,
        "id": "HtEOoIgzV_kl"
      },
      "execution_count": null,
      "outputs": []
    },
    {
      "cell_type": "code",
      "source": [
        "def fetch_scheduler(optimizer):\n",
        "    if CONFIG['scheduler'] == 'CosineAnnealingLR':\n",
        "        scheduler = lr_scheduler.CosineAnnealingLR(optimizer,T_max=CONFIG['T_max'],\n",
        "                                                   eta_min=CONFIG['min_lr'])\n",
        "    elif CONFIG['scheduler'] == 'CosineAnnealingWarmRestarts':\n",
        "        scheduler = lr_scheduler.CosineAnnealingWarmRestarts(optimizer,T_0=CONFIG['T_0'],\n",
        "                                                             eta_min=CONFIG['min_lr'])\n",
        "    elif CONFIG['scheduler'] == None:\n",
        "        return None\n",
        "\n",
        "    return scheduler"
      ],
      "metadata": {
        "execution": {
          "iopub.status.busy": "2024-08-29T01:36:19.697646Z",
          "iopub.execute_input": "2024-08-29T01:36:19.698366Z",
          "iopub.status.idle": "2024-08-29T01:36:19.714558Z",
          "shell.execute_reply.started": "2024-08-29T01:36:19.698334Z",
          "shell.execute_reply": "2024-08-29T01:36:19.713304Z"
        },
        "trusted": true,
        "id": "Jz-yk5CCV_kl"
      },
      "execution_count": null,
      "outputs": []
    },
    {
      "cell_type": "code",
      "source": [
        "def prepare_loaders(df, fold):\n",
        "    df_train = df[df.kfold != fold].reset_index(drop=True)\n",
        "    df_valid = df[df.kfold == fold].reset_index(drop=True)\n",
        "\n",
        "    train_dataset = ISICDataset_for_Train(df_train, transforms=data_transforms[\"train\"])\n",
        "    valid_dataset = ISICDataset(df_valid, transforms=data_transforms[\"valid\"])\n",
        "\n",
        "    train_loader = DataLoader(train_dataset, batch_size=CONFIG['train_batch_size'],\n",
        "                              num_workers=2, shuffle=True, pin_memory=True, drop_last=True)\n",
        "    valid_loader = DataLoader(valid_dataset, batch_size=CONFIG['valid_batch_size'],\n",
        "                              num_workers=2, shuffle=False, pin_memory=True)\n",
        "\n",
        "    return train_loader, valid_loader"
      ],
      "metadata": {
        "execution": {
          "iopub.status.busy": "2024-08-29T01:36:19.716052Z",
          "iopub.execute_input": "2024-08-29T01:36:19.71638Z",
          "iopub.status.idle": "2024-08-29T01:36:19.735234Z",
          "shell.execute_reply.started": "2024-08-29T01:36:19.716355Z",
          "shell.execute_reply": "2024-08-29T01:36:19.734091Z"
        },
        "trusted": true,
        "id": "_SiMxcpHV_kl"
      },
      "execution_count": null,
      "outputs": []
    },
    {
      "cell_type": "code",
      "source": [
        "train_loader, valid_loader = prepare_loaders(df, fold=CONFIG[\"fold\"])\n"
      ],
      "metadata": {
        "execution": {
          "iopub.status.busy": "2024-08-29T01:36:19.736645Z",
          "iopub.execute_input": "2024-08-29T01:36:19.737039Z",
          "iopub.status.idle": "2024-08-29T01:36:19.765591Z",
          "shell.execute_reply.started": "2024-08-29T01:36:19.737011Z",
          "shell.execute_reply": "2024-08-29T01:36:19.764497Z"
        },
        "trusted": true,
        "id": "_V_837gWV_kl"
      },
      "execution_count": null,
      "outputs": []
    },
    {
      "cell_type": "code",
      "source": [
        "optimizer = optim.Adam(model.parameters(), lr=CONFIG['learning_rate'],\n",
        "                       weight_decay=CONFIG['weight_decay'])\n",
        "scheduler = fetch_scheduler(optimizer)"
      ],
      "metadata": {
        "execution": {
          "iopub.status.busy": "2024-08-29T01:36:19.766988Z",
          "iopub.execute_input": "2024-08-29T01:36:19.767334Z",
          "iopub.status.idle": "2024-08-29T01:36:19.774757Z",
          "shell.execute_reply.started": "2024-08-29T01:36:19.767305Z",
          "shell.execute_reply": "2024-08-29T01:36:19.773594Z"
        },
        "trusted": true,
        "id": "4m70TdhaV_kl"
      },
      "execution_count": null,
      "outputs": []
    },
    {
      "cell_type": "code",
      "source": [
        "model, history, path = run_training(model=model,\n",
        "                                    optimizer=optimizer,\n",
        "                                    scheduler=scheduler,\n",
        "                                    device=CONFIG['device'],\n",
        "                                    num_epochs=CONFIG['epochs'],\n",
        "                                    train_loader=train_loader,\n",
        "                                    valid_loader=valid_loader,\n",
        "                                    CONFIG=CONFIG)"
      ],
      "metadata": {
        "execution": {
          "iopub.status.busy": "2024-08-29T01:36:19.776311Z",
          "iopub.execute_input": "2024-08-29T01:36:19.776724Z"
        },
        "trusted": true,
        "id": "hpJrsE6MV_kl",
        "outputId": "d6131552-a8c4-464f-e447-5dbb2d809639"
      },
      "execution_count": null,
      "outputs": [
        {
          "name": "stderr",
          "text": "100%|██████████| 19/19 [06:34<00:00, 20.74s/it, Epoch=1, LR=0.0001, Train_Auroc=0.547, Train_Loss=0.713]\n100%|██████████| 26/26 [04:33<00:00, 10.51s/it, Epoch=1, LR=0.0001, Valid_Auroc=0.508, Valid_Loss=0.844]\n",
          "output_type": "stream"
        },
        {
          "name": "stdout",
          "text": "\u001b[34mValidation AUROC Improved (-inf ---> 0.5077265067141332)\nModel Saved to AUROC0.5077_Loss0.8444_epoch1.bin\u001b[0m\nModel weights saved to AUROC0.5077_Loss0.8444_epoch1.CONFIG\n\n",
          "output_type": "stream"
        },
        {
          "name": "stderr",
          "text": "100%|██████████| 19/19 [07:23<00:00, 23.36s/it, Epoch=2, LR=9.99e-5, Train_Auroc=0.694, Train_Loss=0.639]\n100%|██████████| 26/26 [04:55<00:00, 11.37s/it, Epoch=2, LR=9.99e-5, Valid_Auroc=0.507, Valid_Loss=0.836]\n",
          "output_type": "stream"
        },
        {
          "name": "stdout",
          "text": "\n",
          "output_type": "stream"
        },
        {
          "name": "stderr",
          "text": "100%|██████████| 19/19 [07:00<00:00, 22.15s/it, Epoch=3, LR=9.98e-5, Train_Auroc=0.784, Train_Loss=0.571]\n100%|██████████| 26/26 [03:35<00:00,  8.28s/it, Epoch=3, LR=9.98e-5, Valid_Auroc=0.511, Valid_Loss=0.721]\n",
          "output_type": "stream"
        },
        {
          "name": "stdout",
          "text": "\u001b[34mValidation AUROC Improved (0.5077265067141332 ---> 0.5106272430231935)\nModel Saved to AUROC0.5106_Loss0.7213_epoch3.bin\u001b[0m\nModel weights saved to AUROC0.5106_Loss0.7213_epoch3.CONFIG\n\n",
          "output_type": "stream"
        },
        {
          "name": "stderr",
          "text": "100%|██████████| 19/19 [06:42<00:00, 21.21s/it, Epoch=4, LR=9.97e-5, Train_Auroc=0.84, Train_Loss=0.518] \n100%|██████████| 26/26 [03:37<00:00,  8.36s/it, Epoch=4, LR=9.97e-5, Valid_Auroc=0.513, Valid_Loss=0.483]\n",
          "output_type": "stream"
        },
        {
          "name": "stdout",
          "text": "\u001b[34mValidation AUROC Improved (0.5106272430231935 ---> 0.5133697573517596)\nModel Saved to AUROC0.5134_Loss0.4827_epoch4.bin\u001b[0m\nModel weights saved to AUROC0.5134_Loss0.4827_epoch4.CONFIG\n\n",
          "output_type": "stream"
        },
        {
          "name": "stderr",
          "text": "100%|██████████| 19/19 [06:42<00:00, 21.19s/it, Epoch=5, LR=9.95e-5, Train_Auroc=0.862, Train_Loss=0.485]\n100%|██████████| 26/26 [02:10<00:00,  5.02s/it, Epoch=5, LR=9.95e-5, Valid_Auroc=0.514, Valid_Loss=0.568]\n",
          "output_type": "stream"
        },
        {
          "name": "stdout",
          "text": "\u001b[34mValidation AUROC Improved (0.5133697573517596 ---> 0.5143718298948895)\nModel Saved to AUROC0.5144_Loss0.5678_epoch5.bin\u001b[0m\nModel weights saved to AUROC0.5144_Loss0.5678_epoch5.CONFIG\n\n",
          "output_type": "stream"
        },
        {
          "name": "stderr",
          "text": "100%|██████████| 19/19 [06:47<00:00, 21.45s/it, Epoch=6, LR=9.93e-5, Train_Auroc=0.895, Train_Loss=0.435]\n100%|██████████| 26/26 [03:33<00:00,  8.22s/it, Epoch=6, LR=9.93e-5, Valid_Auroc=0.515, Valid_Loss=0.52] \n",
          "output_type": "stream"
        },
        {
          "name": "stdout",
          "text": "\u001b[34mValidation AUROC Improved (0.5143718298948895 ---> 0.5153739024380194)\nModel Saved to AUROC0.5154_Loss0.5197_epoch6.bin\u001b[0m\nModel weights saved to AUROC0.5154_Loss0.5197_epoch6.CONFIG\n\n",
          "output_type": "stream"
        },
        {
          "name": "stderr",
          "text": "100%|██████████| 19/19 [06:57<00:00, 21.97s/it, Epoch=7, LR=9.9e-5, Train_Auroc=0.926, Train_Loss=0.365] \n100%|██████████| 26/26 [04:43<00:00, 10.90s/it, Epoch=7, LR=9.9e-5, Valid_Auroc=0.516, Valid_Loss=0.515]\n",
          "output_type": "stream"
        },
        {
          "name": "stdout",
          "text": "\u001b[34mValidation AUROC Improved (0.5153739024380194 ---> 0.5155321244185136)\nModel Saved to AUROC0.5155_Loss0.5145_epoch7.bin\u001b[0m\nModel weights saved to AUROC0.5155_Loss0.5145_epoch7.CONFIG\n\n",
          "output_type": "stream"
        },
        {
          "name": "stderr",
          "text": " 63%|██████▎   | 12/19 [04:44<02:34, 22.13s/it, Epoch=8, LR=9.88e-5, Train_Auroc=0.901, Train_Loss=0.399]",
          "output_type": "stream"
        }
      ]
    },
    {
      "cell_type": "code",
      "source": [
        "import pandas as pd\n",
        "import matplotlib.pyplot as plt\n",
        "\n",
        "# Step 1: Create the DataFrame\n",
        "data = {\n",
        "    'x': [107, 211],\n",
        "    'y': [0.5167, 0.5167],\n",
        "    'category': ['A', 'B']\n",
        "}\n",
        "\n",
        "df = pd.DataFrame(data)\n",
        "\n",
        "# Step 2: Specify which points to plot\n",
        "# Example: Plot only points where category is 'A'\n",
        "df_A = df[df['category'] == 'A']\n",
        "\n",
        "# Step 3: Plot the data\n",
        "plt.figure(figsize=(10, 6))\n",
        "plt.scatter(df['x'], df['y'], label='efficientnetb0')\n",
        "plt.scatter(df_A['x'], df_A['y'], label='efficientnetb2', color='red')\n",
        "\n",
        "# Step 4: Customize the plot\n",
        "plt.xlabel('Training Time(mins)')\n",
        "plt.ylabel('Area Under the Receiver Operating Characteristic Curve(%)')\n",
        "plt.title('Training Time(mins)')\n",
        "plt.legend()\n",
        "\n",
        "# Show the plot\n",
        "plt.show()\n"
      ],
      "metadata": {
        "execution": {
          "iopub.status.busy": "2024-08-28T02:27:17.422168Z",
          "iopub.execute_input": "2024-08-28T02:27:17.422553Z",
          "iopub.status.idle": "2024-08-28T02:27:17.755067Z",
          "shell.execute_reply.started": "2024-08-28T02:27:17.422524Z",
          "shell.execute_reply": "2024-08-28T02:27:17.754125Z"
        },
        "trusted": true,
        "id": "DUli2fr6V_km",
        "outputId": "cd476fec-c31a-4e85-cee9-ff1489bac51f"
      },
      "execution_count": null,
      "outputs": [
        {
          "output_type": "display_data",
          "data": {
            "text/plain": "<Figure size 1000x600 with 1 Axes>",
            "image/png": "[encoded data removed]"
          },
          "metadata": {}
        }
      ]
    },
    {
      "cell_type": "code",
      "source": [
        "import os\n",
        "import gc\n",
        "import cv2\n",
        "import math\n",
        "import copy\n",
        "import time\n",
        "import random\n",
        "import glob\n",
        "from matplotlib import pyplot as plt\n",
        "\n",
        "import h5py\n",
        "from PIL import Image\n",
        "from io import BytesIO\n",
        "\n",
        "# For data manipulation\n",
        "import numpy as np\n",
        "import pandas as pd\n",
        "\n",
        "# Pytorch Imports\n",
        "import torch\n",
        "import torch.nn as nn\n",
        "import torch.optim as optim\n",
        "import torch.nn.functional as F\n",
        "from torch.optim import lr_scheduler\n",
        "from torch.utils.data import Dataset, DataLoader\n",
        "from torch.cuda import amp\n",
        "import torchvision\n",
        "\n",
        "# Utils\n",
        "import joblib\n",
        "from tqdm import tqdm\n",
        "from collections import defaultdict\n",
        "\n",
        "# Sklearn Imports\n",
        "from sklearn.preprocessing import LabelEncoder\n",
        "from sklearn.model_selection import StratifiedKFold\n",
        "\n",
        "# For Image Models\n",
        "import timm\n",
        "\n",
        "# Albumentations for augmentations\n",
        "import albumentations as A\n",
        "from albumentations.pytorch import ToTensorV2\n",
        "\n",
        "# For colored terminal text\n",
        "from colorama import Fore, Back, Style\n",
        "b_ = Fore.BLUE\n",
        "sr_ = Style.RESET_ALL\n",
        "\n",
        "import warnings\n",
        "warnings.filterwarnings(\"ignore\")\n",
        "\n",
        "# For descriptive error messages\n",
        "os.environ['CUDA_LAUNCH_BLOCKING'] = \"1\""
      ],
      "metadata": {
        "execution": {
          "iopub.status.busy": "2024-08-28T02:27:17.756935Z",
          "iopub.execute_input": "2024-08-28T02:27:17.757257Z",
          "iopub.status.idle": "2024-08-28T02:27:17.765602Z",
          "shell.execute_reply.started": "2024-08-28T02:27:17.757229Z",
          "shell.execute_reply": "2024-08-28T02:27:17.764601Z"
        },
        "trusted": true,
        "id": "T3E-qvF0V_km"
      },
      "execution_count": null,
      "outputs": []
    },
    {
      "cell_type": "code",
      "source": [
        "CONFIG = {\n",
        "    \"seed\": 42,\n",
        "    \"img_size\": 384,\n",
        "    \"model_name\": \"tf_efficientnet_b0_ns\",\n",
        "    \"valid_batch_size\": 32,\n",
        "    \"device\": torch.device(\"cuda:0\" if torch.cuda.is_available() else \"cpu\"),\n",
        "}"
      ],
      "metadata": {
        "execution": {
          "iopub.status.busy": "2024-08-28T02:27:17.766999Z",
          "iopub.execute_input": "2024-08-28T02:27:17.767334Z",
          "iopub.status.idle": "2024-08-28T02:27:17.779051Z",
          "shell.execute_reply.started": "2024-08-28T02:27:17.767275Z",
          "shell.execute_reply": "2024-08-28T02:27:17.778065Z"
        },
        "trusted": true,
        "id": "K7onkm6RV_km"
      },
      "execution_count": null,
      "outputs": []
    },
    {
      "cell_type": "code",
      "source": [
        "ROOT_DIR = \"/kaggle/input/isic-2024-challenge\"\n",
        "TEST_CSV = f'{ROOT_DIR}/test-metadata.csv'\n",
        "TEST_HDF = f'{ROOT_DIR}/test-image.hdf5'\n",
        "SAMPLE = f'{ROOT_DIR}/sample_submission.csv'\n",
        "\n",
        "BEST_WEIGHT = '/kaggle/input/isic-training-model/AUROC0.5168_Loss0.2496_epoch10.CONFIG'"
      ],
      "metadata": {
        "execution": {
          "iopub.status.busy": "2024-08-28T02:27:17.780363Z",
          "iopub.execute_input": "2024-08-28T02:27:17.78074Z",
          "iopub.status.idle": "2024-08-28T02:27:17.788228Z",
          "shell.execute_reply.started": "2024-08-28T02:27:17.780713Z",
          "shell.execute_reply": "2024-08-28T02:27:17.787237Z"
        },
        "trusted": true,
        "id": "HFFKHedUV_km"
      },
      "execution_count": null,
      "outputs": []
    },
    {
      "cell_type": "code",
      "source": [
        "df = pd.read_csv('/kaggle/input/isic-2024-challenge/test-metadata.csv')\n",
        "print(df.columns)"
      ],
      "metadata": {
        "execution": {
          "iopub.status.busy": "2024-08-28T02:27:17.791782Z",
          "iopub.execute_input": "2024-08-28T02:27:17.792465Z",
          "iopub.status.idle": "2024-08-28T02:27:17.805368Z",
          "shell.execute_reply.started": "2024-08-28T02:27:17.792436Z",
          "shell.execute_reply": "2024-08-28T02:27:17.804257Z"
        },
        "trusted": true,
        "id": "brf4P0pHV_kp",
        "outputId": "469c5004-0c07-463d-8a56-b1ef184873b0"
      },
      "execution_count": null,
      "outputs": [
        {
          "name": "stdout",
          "text": "Index(['isic_id', 'patient_id', 'age_approx', 'sex', 'anatom_site_general',\n       'clin_size_long_diam_mm', 'image_type', 'tbp_tile_type', 'tbp_lv_A',\n       'tbp_lv_Aext', 'tbp_lv_B', 'tbp_lv_Bext', 'tbp_lv_C', 'tbp_lv_Cext',\n       'tbp_lv_H', 'tbp_lv_Hext', 'tbp_lv_L', 'tbp_lv_Lext', 'tbp_lv_areaMM2',\n       'tbp_lv_area_perim_ratio', 'tbp_lv_color_std_mean', 'tbp_lv_deltaA',\n       'tbp_lv_deltaB', 'tbp_lv_deltaL', 'tbp_lv_deltaLB',\n       'tbp_lv_deltaLBnorm', 'tbp_lv_eccentricity', 'tbp_lv_location',\n       'tbp_lv_location_simple', 'tbp_lv_minorAxisMM',\n       'tbp_lv_nevi_confidence', 'tbp_lv_norm_border', 'tbp_lv_norm_color',\n       'tbp_lv_perimeterMM', 'tbp_lv_radial_color_std_max', 'tbp_lv_stdL',\n       'tbp_lv_stdLExt', 'tbp_lv_symm_2axis', 'tbp_lv_symm_2axis_angle',\n       'tbp_lv_x', 'tbp_lv_y', 'tbp_lv_z', 'attribution', 'copyright_license'],\n      dtype='object')\n",
          "output_type": "stream"
        }
      ]
    },
    {
      "cell_type": "code",
      "source": [
        "class ISICDataset(Dataset):\n",
        "    def __init__(self, df, file_hdf, transforms=None):\n",
        "        self.df = df\n",
        "        self.fp_hdf = h5py.File(file_hdf, mode=\"r\")\n",
        "        self.isic_ids = df['isic_id'].values\n",
        "        self.targets = df['target'].values\n",
        "        self.transforms = transforms\n",
        "\n",
        "    def __len__(self):\n",
        "        return len(self.isic_ids)\n",
        "\n",
        "    def __getitem__(self, index):\n",
        "        isic_id = self.isic_ids[index]\n",
        "        img = np.array( Image.open(BytesIO(self.fp_hdf[isic_id][()])) )\n",
        "        target = self.targets[index]\n",
        "\n",
        "        if self.transforms:\n",
        "            img = self.transforms(image=img)[\"image\"]\n",
        "\n",
        "        return {\n",
        "            'image': img,\n",
        "            'target': target,\n",
        "        }\n",
        ""
      ],
      "metadata": {
        "execution": {
          "iopub.status.busy": "2024-08-28T02:27:17.806603Z",
          "iopub.execute_input": "2024-08-28T02:27:17.806931Z",
          "iopub.status.idle": "2024-08-28T02:27:17.814005Z",
          "shell.execute_reply.started": "2024-08-28T02:27:17.8069Z",
          "shell.execute_reply": "2024-08-28T02:27:17.812947Z"
        },
        "trusted": true,
        "id": "HyptB81VV_kp"
      },
      "execution_count": null,
      "outputs": []
    },
    {
      "cell_type": "code",
      "source": [
        "data_transforms = {\n",
        "    \"valid\": A.Compose([\n",
        "        A.Resize(CONFIG['img_size'], CONFIG['img_size']),\n",
        "        A.Normalize(\n",
        "                mean=[0.485, 0.456, 0.406],\n",
        "                std=[0.229, 0.224, 0.225],\n",
        "                max_pixel_value=255.0,\n",
        "                p=1.0\n",
        "            ),\n",
        "        ToTensorV2()], p=1.)\n",
        "}"
      ],
      "metadata": {
        "execution": {
          "iopub.status.busy": "2024-08-28T02:27:17.815246Z",
          "iopub.execute_input": "2024-08-28T02:27:17.815575Z",
          "iopub.status.idle": "2024-08-28T02:27:17.826721Z",
          "shell.execute_reply.started": "2024-08-28T02:27:17.815549Z",
          "shell.execute_reply": "2024-08-28T02:27:17.825821Z"
        },
        "trusted": true,
        "id": "Cv1wKXAQV_kp"
      },
      "execution_count": null,
      "outputs": []
    },
    {
      "cell_type": "code",
      "source": [
        "class GeM(nn.Module):\n",
        "    def __init__(self, p=3, eps=1e-6):\n",
        "        super(GeM, self).__init__()\n",
        "        self.p = nn.Parameter(torch.ones(1)*p)\n",
        "        self.eps = eps\n",
        "\n",
        "    def forward(self, x):\n",
        "        return self.gem(x, p=self.p, eps=self.eps)\n",
        "\n",
        "    def gem(self, x, p=3, eps=1e-6):\n",
        "        return F.avg_pool2d(x.clamp(min=eps).pow(p), (x.size(-2), x.size(-1))).pow(1./p)\n",
        "\n",
        "    def __repr__(self):\n",
        "        return self.__class__.__name__ + \\\n",
        "                '(' + 'p=' + '{:.4f}'.format(self.p.data.tolist()[0]) + \\\n",
        "                ', ' + 'eps=' + str(self.eps) + ')'"
      ],
      "metadata": {
        "execution": {
          "iopub.status.busy": "2024-08-28T02:27:17.82779Z",
          "iopub.execute_input": "2024-08-28T02:27:17.828124Z",
          "iopub.status.idle": "2024-08-28T02:27:17.837318Z",
          "shell.execute_reply.started": "2024-08-28T02:27:17.828098Z",
          "shell.execute_reply": "2024-08-28T02:27:17.836294Z"
        },
        "trusted": true,
        "id": "UgQa9DBOV_kp"
      },
      "execution_count": null,
      "outputs": []
    },
    {
      "cell_type": "code",
      "source": [
        "class ISICModel(nn.Module):\n",
        "    def __init__(self, model_name, num_classes=1, pretrained=True, checkpoint_path=None):\n",
        "        super(ISICModel, self).__init__()\n",
        "        self.model = timm.create_model(model_name, pretrained=pretrained, checkpoint_path=checkpoint_path)\n",
        "\n",
        "        in_features = self.model.classifier.in_features\n",
        "        self.model.classifier = nn.Identity()\n",
        "        self.model.global_pool = nn.Identity()\n",
        "        self.pooling = GeM()\n",
        "        self.linear = nn.Linear(in_features, num_classes)\n",
        "        self.sigmoid = nn.Sigmoid()\n",
        "\n",
        "    def forward(self, images):\n",
        "        features = self.model(images)\n",
        "        pooled_features = self.pooling(features).flatten(1)\n",
        "        output = self.sigmoid(self.linear(pooled_features))\n",
        "        return output\n",
        "\n",
        "model = ISICModel(CONFIG['model_name'], pretrained=False)\n",
        "model.load_state_dict(torch.load(BEST_WEIGHT))\n",
        "model.to(CONFIG['device']);"
      ],
      "metadata": {
        "execution": {
          "iopub.status.busy": "2024-08-28T02:27:29.777894Z",
          "iopub.execute_input": "2024-08-28T02:27:29.778296Z",
          "iopub.status.idle": "2024-08-28T02:27:30.004032Z",
          "shell.execute_reply.started": "2024-08-28T02:27:29.778265Z",
          "shell.execute_reply": "2024-08-28T02:27:30.002675Z"
        },
        "trusted": true,
        "id": "y8znbQwxV_kp",
        "outputId": "d34cf7ce-628f-4e99-e1df-7009ea81252e"
      },
      "execution_count": null,
      "outputs": [
        {
          "traceback": [
            "\u001b[0;31m---------------------------------------------------------------------------\u001b[0m",
            "\u001b[0;31mUnpicklingError\u001b[0m                           Traceback (most recent call last)",
            "Cell \u001b[0;32mIn[23], line 20\u001b[0m\n\u001b[1;32m     17\u001b[0m         \u001b[38;5;28;01mreturn\u001b[39;00m output\n\u001b[1;32m     19\u001b[0m model \u001b[38;5;241m=\u001b[39m ISICModel(CONFIG[\u001b[38;5;124m'\u001b[39m\u001b[38;5;124mmodel_name\u001b[39m\u001b[38;5;124m'\u001b[39m], pretrained\u001b[38;5;241m=\u001b[39m\u001b[38;5;28;01mFalse\u001b[39;00m)\n\u001b[0;32m---> 20\u001b[0m model\u001b[38;5;241m.\u001b[39mload_state_dict(\u001b[43mtorch\u001b[49m\u001b[38;5;241;43m.\u001b[39;49m\u001b[43mload\u001b[49m\u001b[43m(\u001b[49m\u001b[43mBEST_WEIGHT\u001b[49m\u001b[43m)\u001b[49m)\n\u001b[1;32m     21\u001b[0m model\u001b[38;5;241m.\u001b[39mto(CONFIG[\u001b[38;5;124m'\u001b[39m\u001b[38;5;124mdevice\u001b[39m\u001b[38;5;124m'\u001b[39m]);\n",
            "File \u001b[0;32m/opt/conda/lib/python3.10/site-packages/torch/serialization.py:1028\u001b[0m, in \u001b[0;36mload\u001b[0;34m(f, map_location, pickle_module, weights_only, mmap, **pickle_load_args)\u001b[0m\n\u001b[1;32m   1026\u001b[0m     \u001b[38;5;28;01mexcept\u001b[39;00m \u001b[38;5;167;01mRuntimeError\u001b[39;00m \u001b[38;5;28;01mas\u001b[39;00m e:\n\u001b[1;32m   1027\u001b[0m         \u001b[38;5;28;01mraise\u001b[39;00m pickle\u001b[38;5;241m.\u001b[39mUnpicklingError(UNSAFE_MESSAGE \u001b[38;5;241m+\u001b[39m \u001b[38;5;28mstr\u001b[39m(e)) \u001b[38;5;28;01mfrom\u001b[39;00m \u001b[38;5;28;01mNone\u001b[39;00m\n\u001b[0;32m-> 1028\u001b[0m \u001b[38;5;28;01mreturn\u001b[39;00m \u001b[43m_legacy_load\u001b[49m\u001b[43m(\u001b[49m\u001b[43mopened_file\u001b[49m\u001b[43m,\u001b[49m\u001b[43m \u001b[49m\u001b[43mmap_location\u001b[49m\u001b[43m,\u001b[49m\u001b[43m \u001b[49m\u001b[43mpickle_module\u001b[49m\u001b[43m,\u001b[49m\u001b[43m \u001b[49m\u001b[38;5;241;43m*\u001b[39;49m\u001b[38;5;241;43m*\u001b[39;49m\u001b[43mpickle_load_args\u001b[49m\u001b[43m)\u001b[49m\n",
            "File \u001b[0;32m/opt/conda/lib/python3.10/site-packages/torch/serialization.py:1246\u001b[0m, in \u001b[0;36m_legacy_load\u001b[0;34m(f, map_location, pickle_module, **pickle_load_args)\u001b[0m\n\u001b[1;32m   1240\u001b[0m \u001b[38;5;28;01mif\u001b[39;00m \u001b[38;5;129;01mnot\u001b[39;00m \u001b[38;5;28mhasattr\u001b[39m(f, \u001b[38;5;124m'\u001b[39m\u001b[38;5;124mreadinto\u001b[39m\u001b[38;5;124m'\u001b[39m) \u001b[38;5;129;01mand\u001b[39;00m (\u001b[38;5;241m3\u001b[39m, \u001b[38;5;241m8\u001b[39m, \u001b[38;5;241m0\u001b[39m) \u001b[38;5;241m<\u001b[39m\u001b[38;5;241m=\u001b[39m sys\u001b[38;5;241m.\u001b[39mversion_info \u001b[38;5;241m<\u001b[39m (\u001b[38;5;241m3\u001b[39m, \u001b[38;5;241m8\u001b[39m, \u001b[38;5;241m2\u001b[39m):\n\u001b[1;32m   1241\u001b[0m     \u001b[38;5;28;01mraise\u001b[39;00m \u001b[38;5;167;01mRuntimeError\u001b[39;00m(\n\u001b[1;32m   1242\u001b[0m         \u001b[38;5;124m\"\u001b[39m\u001b[38;5;124mtorch.load does not work with file-like objects that do not implement readinto on Python 3.8.0 and 3.8.1. \u001b[39m\u001b[38;5;124m\"\u001b[39m\n\u001b[1;32m   1243\u001b[0m         \u001b[38;5;124mf\u001b[39m\u001b[38;5;124m\"\u001b[39m\u001b[38;5;124mReceived object of type \u001b[39m\u001b[38;5;130;01m\\\"\u001b[39;00m\u001b[38;5;132;01m{\u001b[39;00m\u001b[38;5;28mtype\u001b[39m(f)\u001b[38;5;132;01m}\u001b[39;00m\u001b[38;5;130;01m\\\"\u001b[39;00m\u001b[38;5;124m. Please update to Python 3.8.2 or newer to restore this \u001b[39m\u001b[38;5;124m\"\u001b[39m\n\u001b[1;32m   1244\u001b[0m         \u001b[38;5;124m\"\u001b[39m\u001b[38;5;124mfunctionality.\u001b[39m\u001b[38;5;124m\"\u001b[39m)\n\u001b[0;32m-> 1246\u001b[0m magic_number \u001b[38;5;241m=\u001b[39m \u001b[43mpickle_module\u001b[49m\u001b[38;5;241;43m.\u001b[39;49m\u001b[43mload\u001b[49m\u001b[43m(\u001b[49m\u001b[43mf\u001b[49m\u001b[43m,\u001b[49m\u001b[43m \u001b[49m\u001b[38;5;241;43m*\u001b[39;49m\u001b[38;5;241;43m*\u001b[39;49m\u001b[43mpickle_load_args\u001b[49m\u001b[43m)\u001b[49m\n\u001b[1;32m   1247\u001b[0m \u001b[38;5;28;01mif\u001b[39;00m magic_number \u001b[38;5;241m!=\u001b[39m MAGIC_NUMBER:\n\u001b[1;32m   1248\u001b[0m     \u001b[38;5;28;01mraise\u001b[39;00m \u001b[38;5;167;01mRuntimeError\u001b[39;00m(\u001b[38;5;124m\"\u001b[39m\u001b[38;5;124mInvalid magic number; corrupt file?\u001b[39m\u001b[38;5;124m\"\u001b[39m)\n",
            "\u001b[0;31mUnpicklingError\u001b[0m: invalid load key, '['."
          ],
          "ename": "UnpicklingError",
          "evalue": "invalid load key, '['.",
          "output_type": "error"
        }
      ]
    },
    {
      "cell_type": "code",
      "source": [
        "test_dataset = ISICDataset(df, TEST_HDF, transforms=data_transforms[\"valid\"])\n",
        "test_loader = DataLoader(test_dataset, batch_size=CONFIG['valid_batch_size'],\n",
        "                          num_workers=2, shuffle=False, pin_memory=True)"
      ],
      "metadata": {
        "execution": {
          "iopub.status.busy": "2024-08-28T02:27:18.114855Z",
          "iopub.status.idle": "2024-08-28T02:27:18.115406Z",
          "shell.execute_reply.started": "2024-08-28T02:27:18.115143Z",
          "shell.execute_reply": "2024-08-28T02:27:18.115167Z"
        },
        "trusted": true,
        "id": "DbJCnJCRV_kq"
      },
      "execution_count": null,
      "outputs": []
    },
    {
      "cell_type": "code",
      "source": [
        "preds = []\n",
        "with torch.no_grad():\n",
        "    bar = tqdm(enumerate(test_loader), total=len(test_loader))\n",
        "    for step, data in bar:\n",
        "        images = data['image'].to(CONFIG[\"device\"], dtype=torch.float)\n",
        "        batch_size = images.size(0)\n",
        "        outputs = model(images)\n",
        "        preds.append( outputs.detach().cpu().numpy() )\n",
        "preds = np.concatenate(preds).flatten()"
      ],
      "metadata": {
        "execution": {
          "iopub.status.busy": "2024-08-28T02:27:18.116653Z",
          "iopub.status.idle": "2024-08-28T02:27:18.117185Z",
          "shell.execute_reply.started": "2024-08-28T02:27:18.116915Z",
          "shell.execute_reply": "2024-08-28T02:27:18.116938Z"
        },
        "trusted": true,
        "id": "bOR7Shf-V_kq"
      },
      "execution_count": null,
      "outputs": []
    },
    {
      "cell_type": "code",
      "source": [
        "df_sub[\"target\"] = preds\n",
        "df_sub.to_csv(\"submission.csv\", index=False)"
      ],
      "metadata": {
        "execution": {
          "iopub.status.busy": "2024-08-28T02:27:18.119137Z",
          "iopub.status.idle": "2024-08-28T02:27:18.119481Z",
          "shell.execute_reply.started": "2024-08-28T02:27:18.119313Z",
          "shell.execute_reply": "2024-08-28T02:27:18.119328Z"
        },
        "trusted": true,
        "id": "dgjZqOVnV_kq"
      },
      "execution_count": null,
      "outputs": []
    },
    {
      "cell_type": "code",
      "source": [
        "df_sub"
      ],
      "metadata": {
        "execution": {
          "iopub.status.busy": "2024-08-28T02:27:18.120928Z",
          "iopub.status.idle": "2024-08-28T02:27:18.121284Z",
          "shell.execute_reply.started": "2024-08-28T02:27:18.121111Z",
          "shell.execute_reply": "2024-08-28T02:27:18.121127Z"
        },
        "trusted": true,
        "id": "HxTJ3eaPV_kq"
      },
      "execution_count": null,
      "outputs": []
    }
  ]
}